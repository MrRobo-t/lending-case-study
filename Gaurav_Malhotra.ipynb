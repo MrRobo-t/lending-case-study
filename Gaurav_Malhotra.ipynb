{
 "cells": [
  {
   "cell_type": "markdown",
   "id": "3f6e3c85",
   "metadata": {},
   "source": [
    "# Imports"
   ]
  },
  {
   "cell_type": "code",
   "execution_count": 1,
   "id": "d2ebfdec",
   "metadata": {},
   "outputs": [],
   "source": [
    "#import the necessary libraries for inital data analysis\n",
    "import pandas as pd"
   ]
  },
  {
   "cell_type": "markdown",
   "id": "48c77ebc",
   "metadata": {},
   "source": [
    "# Data Read"
   ]
  },
  {
   "cell_type": "code",
   "execution_count": 36,
   "id": "7ce11168",
   "metadata": {},
   "outputs": [],
   "source": [
    "#reading the data file in a dataframe, adding low_memory=False to remove warning while reading the data\n",
    "df = pd.read_csv(\"loan.csv\",low_memory=False)"
   ]
  },
  {
   "cell_type": "markdown",
   "id": "9328e0d0",
   "metadata": {},
   "source": [
    "# Data understanding"
   ]
  },
  {
   "cell_type": "code",
   "execution_count": 21,
   "id": "beb34806",
   "metadata": {},
   "outputs": [],
   "source": [
    "# Just by eyeballing the data we can notice some huge data quality issues like\n",
    "# Many columns invalid values like NA\n",
    "# some columns contains redundant values like 0,1,INDIVIDUAL,n or more\n",
    "# some columns have many missing values like columns \"next_pymnt_d\"\n",
    "# some columns have Empty values also "
   ]
  },
  {
   "cell_type": "code",
   "execution_count": 28,
   "id": "de27c432",
   "metadata": {},
   "outputs": [
    {
     "data": {
      "text/plain": [
       "39717"
      ]
     },
     "execution_count": 28,
     "metadata": {},
     "output_type": "execute_result"
    }
   ],
   "source": [
    "# Duplication Check\n",
    "df1 = df.drop([\"id\",\"member_id\"],axis=1)\n",
    "len(df1.drop_duplicates())\n",
    "# we found out that there are no duplicate rows in the updated dataframe after removing the unqiue id's from the data"
   ]
  },
  {
   "cell_type": "markdown",
   "id": "47284086",
   "metadata": {},
   "source": [
    "# Data Cleaning"
   ]
  },
  {
   "cell_type": "code",
   "execution_count": 37,
   "id": "f18f3836",
   "metadata": {},
   "outputs": [
    {
     "data": {
      "text/plain": [
       "(39717, 111)"
      ]
     },
     "execution_count": 37,
     "metadata": {},
     "output_type": "execute_result"
    }
   ],
   "source": [
    "#check shape of your dataframe i.e. how many rows and columns we have in total\n",
    "df.shape"
   ]
  },
  {
   "cell_type": "code",
   "execution_count": null,
   "id": "46346fca",
   "metadata": {},
   "outputs": [],
   "source": [
    "# Filter out unncessary columns that do not pertain with our use case"
   ]
  },
  {
   "cell_type": "code",
   "execution_count": 38,
   "id": "cf6d9c51",
   "metadata": {},
   "outputs": [],
   "source": [
    "df = df.drop(['collections_12_mths_ex_med','mths_since_last_major_derog','policy_code','application_type',\n",
    "               'annual_inc_joint','dti_joint','verification_status_joint','acc_now_delinq','tot_coll_amt',\n",
    "               'tot_cur_bal','open_acc_6m','open_il_6m','open_il_12m','open_il_24m','mths_since_rcnt_il',\n",
    "               'total_bal_il','il_util','open_rv_12m','open_rv_24m','max_bal_bc','all_util','total_rev_hi_lim',\n",
    "               'inq_fi','total_cu_tl','inq_last_12m','acc_open_past_24mths','avg_cur_bal','bc_open_to_buy',\n",
    "               'bc_util','chargeoff_within_12_mths','delinq_amnt','mo_sin_old_il_acct','mo_sin_old_rev_tl_op',\n",
    "               'mo_sin_rcnt_rev_tl_op','mo_sin_rcnt_tl','mort_acc','mths_since_recent_bc','mths_since_recent_bc_dlq',\n",
    "               'mths_since_recent_inq','mths_since_recent_revol_delinq','num_accts_ever_120_pd','num_actv_bc_tl',\n",
    "               'num_actv_rev_tl','num_bc_sats','num_bc_tl','num_il_tl','num_op_rev_tl','num_rev_accts',\n",
    "               'num_rev_tl_bal_gt_0','num_sats','num_tl_120dpd_2m','num_tl_30dpd','num_tl_90g_dpd_24m',\n",
    "               'num_tl_op_past_12m','pct_tl_nvr_dlq','percent_bc_gt_75','pub_rec_bankruptcies','tax_liens',\n",
    "               'tot_hi_cred_lim','total_bal_ex_mort','total_bc_limit','total_il_high_credit_limit','next_pymnt_d',\n",
    "              'last_credit_pull_d','initial_list_status','mths_since_last_delinq','mths_since_last_record','desc',\n",
    "              'pymnt_plan','url'],axis=1)"
   ]
  },
  {
   "cell_type": "code",
   "execution_count": null,
   "id": "81e47316",
   "metadata": {},
   "outputs": [],
   "source": [
    "# some highlight from above cell, we are removing desc column bcoz of 15k approx missing data"
   ]
  },
  {
   "cell_type": "code",
   "execution_count": 39,
   "id": "9ef01b69",
   "metadata": {},
   "outputs": [
    {
     "data": {
      "text/plain": [
       "(39717, 41)"
      ]
     },
     "execution_count": 39,
     "metadata": {},
     "output_type": "execute_result"
    }
   ],
   "source": [
    "#check shape of your dataframe i.e. how many rows and columns we have in total\n",
    "df.shape"
   ]
  },
  {
   "cell_type": "code",
   "execution_count": null,
   "id": "0efb40c5",
   "metadata": {},
   "outputs": [],
   "source": [
    "# Even after removing many unwanted columns we can notice we still have 41 column, so lets remove some more unrelated or \n",
    "# dupllicate columns form the dataframe columns "
   ]
  },
  {
   "cell_type": "code",
   "execution_count": null,
   "id": "b087cffc",
   "metadata": {},
   "outputs": [],
   "source": [
    "df = df.drop(['id',''],axis=1)"
   ]
  },
  {
   "cell_type": "code",
   "execution_count": null,
   "id": "7dab8c74",
   "metadata": {},
   "outputs": [],
   "source": [
    "# we can remove \"id\" as this is duplicate with member_id both columns signify same things even though value sare differnnt"
   ]
  },
  {
   "cell_type": "code",
   "execution_count": null,
   "id": "a3ae13c6",
   "metadata": {},
   "outputs": [],
   "source": []
  },
  {
   "cell_type": "code",
   "execution_count": 32,
   "id": "2bf7a3a6",
   "metadata": {
    "scrolled": true
   },
   "outputs": [
    {
     "data": {
      "text/html": [
       "<div>\n",
       "<style scoped>\n",
       "    .dataframe tbody tr th:only-of-type {\n",
       "        vertical-align: middle;\n",
       "    }\n",
       "\n",
       "    .dataframe tbody tr th {\n",
       "        vertical-align: top;\n",
       "    }\n",
       "\n",
       "    .dataframe thead th {\n",
       "        text-align: right;\n",
       "    }\n",
       "</style>\n",
       "<table border=\"1\" class=\"dataframe\">\n",
       "  <thead>\n",
       "    <tr style=\"text-align: right;\">\n",
       "      <th></th>\n",
       "      <th>id</th>\n",
       "      <th>member_id</th>\n",
       "      <th>loan_amnt</th>\n",
       "      <th>funded_amnt</th>\n",
       "      <th>funded_amnt_inv</th>\n",
       "      <th>term</th>\n",
       "      <th>int_rate</th>\n",
       "      <th>installment</th>\n",
       "      <th>grade</th>\n",
       "      <th>sub_grade</th>\n",
       "      <th>...</th>\n",
       "      <th>out_prncp_inv</th>\n",
       "      <th>total_pymnt</th>\n",
       "      <th>total_pymnt_inv</th>\n",
       "      <th>total_rec_prncp</th>\n",
       "      <th>total_rec_int</th>\n",
       "      <th>total_rec_late_fee</th>\n",
       "      <th>recoveries</th>\n",
       "      <th>collection_recovery_fee</th>\n",
       "      <th>last_pymnt_d</th>\n",
       "      <th>last_pymnt_amnt</th>\n",
       "    </tr>\n",
       "  </thead>\n",
       "  <tbody>\n",
       "    <tr>\n",
       "      <th>0</th>\n",
       "      <td>1077501</td>\n",
       "      <td>1296599</td>\n",
       "      <td>5000</td>\n",
       "      <td>5000</td>\n",
       "      <td>4975.0</td>\n",
       "      <td>36 months</td>\n",
       "      <td>10.65%</td>\n",
       "      <td>162.87</td>\n",
       "      <td>B</td>\n",
       "      <td>B2</td>\n",
       "      <td>...</td>\n",
       "      <td>0.00</td>\n",
       "      <td>5863.155187</td>\n",
       "      <td>5833.84</td>\n",
       "      <td>5000.00</td>\n",
       "      <td>863.16</td>\n",
       "      <td>0.00</td>\n",
       "      <td>0.00</td>\n",
       "      <td>0.00</td>\n",
       "      <td>Jan-15</td>\n",
       "      <td>171.62</td>\n",
       "    </tr>\n",
       "    <tr>\n",
       "      <th>1</th>\n",
       "      <td>1077430</td>\n",
       "      <td>1314167</td>\n",
       "      <td>2500</td>\n",
       "      <td>2500</td>\n",
       "      <td>2500.0</td>\n",
       "      <td>60 months</td>\n",
       "      <td>15.27%</td>\n",
       "      <td>59.83</td>\n",
       "      <td>C</td>\n",
       "      <td>C4</td>\n",
       "      <td>...</td>\n",
       "      <td>0.00</td>\n",
       "      <td>1008.710000</td>\n",
       "      <td>1008.71</td>\n",
       "      <td>456.46</td>\n",
       "      <td>435.17</td>\n",
       "      <td>0.00</td>\n",
       "      <td>117.08</td>\n",
       "      <td>1.11</td>\n",
       "      <td>Apr-13</td>\n",
       "      <td>119.66</td>\n",
       "    </tr>\n",
       "    <tr>\n",
       "      <th>2</th>\n",
       "      <td>1077175</td>\n",
       "      <td>1313524</td>\n",
       "      <td>2400</td>\n",
       "      <td>2400</td>\n",
       "      <td>2400.0</td>\n",
       "      <td>36 months</td>\n",
       "      <td>15.96%</td>\n",
       "      <td>84.33</td>\n",
       "      <td>C</td>\n",
       "      <td>C5</td>\n",
       "      <td>...</td>\n",
       "      <td>0.00</td>\n",
       "      <td>3005.666844</td>\n",
       "      <td>3005.67</td>\n",
       "      <td>2400.00</td>\n",
       "      <td>605.67</td>\n",
       "      <td>0.00</td>\n",
       "      <td>0.00</td>\n",
       "      <td>0.00</td>\n",
       "      <td>Jun-14</td>\n",
       "      <td>649.91</td>\n",
       "    </tr>\n",
       "    <tr>\n",
       "      <th>3</th>\n",
       "      <td>1076863</td>\n",
       "      <td>1277178</td>\n",
       "      <td>10000</td>\n",
       "      <td>10000</td>\n",
       "      <td>10000.0</td>\n",
       "      <td>36 months</td>\n",
       "      <td>13.49%</td>\n",
       "      <td>339.31</td>\n",
       "      <td>C</td>\n",
       "      <td>C1</td>\n",
       "      <td>...</td>\n",
       "      <td>0.00</td>\n",
       "      <td>12231.890000</td>\n",
       "      <td>12231.89</td>\n",
       "      <td>10000.00</td>\n",
       "      <td>2214.92</td>\n",
       "      <td>16.97</td>\n",
       "      <td>0.00</td>\n",
       "      <td>0.00</td>\n",
       "      <td>Jan-15</td>\n",
       "      <td>357.48</td>\n",
       "    </tr>\n",
       "    <tr>\n",
       "      <th>4</th>\n",
       "      <td>1075358</td>\n",
       "      <td>1311748</td>\n",
       "      <td>3000</td>\n",
       "      <td>3000</td>\n",
       "      <td>3000.0</td>\n",
       "      <td>60 months</td>\n",
       "      <td>12.69%</td>\n",
       "      <td>67.79</td>\n",
       "      <td>B</td>\n",
       "      <td>B5</td>\n",
       "      <td>...</td>\n",
       "      <td>524.06</td>\n",
       "      <td>3513.330000</td>\n",
       "      <td>3513.33</td>\n",
       "      <td>2475.94</td>\n",
       "      <td>1037.39</td>\n",
       "      <td>0.00</td>\n",
       "      <td>0.00</td>\n",
       "      <td>0.00</td>\n",
       "      <td>May-16</td>\n",
       "      <td>67.79</td>\n",
       "    </tr>\n",
       "  </tbody>\n",
       "</table>\n",
       "<p>5 rows × 41 columns</p>\n",
       "</div>"
      ],
      "text/plain": [
       "        id  member_id  loan_amnt  funded_amnt  funded_amnt_inv        term  \\\n",
       "0  1077501    1296599       5000         5000           4975.0   36 months   \n",
       "1  1077430    1314167       2500         2500           2500.0   60 months   \n",
       "2  1077175    1313524       2400         2400           2400.0   36 months   \n",
       "3  1076863    1277178      10000        10000          10000.0   36 months   \n",
       "4  1075358    1311748       3000         3000           3000.0   60 months   \n",
       "\n",
       "  int_rate  installment grade sub_grade  ... out_prncp_inv   total_pymnt  \\\n",
       "0   10.65%       162.87     B        B2  ...          0.00   5863.155187   \n",
       "1   15.27%        59.83     C        C4  ...          0.00   1008.710000   \n",
       "2   15.96%        84.33     C        C5  ...          0.00   3005.666844   \n",
       "3   13.49%       339.31     C        C1  ...          0.00  12231.890000   \n",
       "4   12.69%        67.79     B        B5  ...        524.06   3513.330000   \n",
       "\n",
       "  total_pymnt_inv  total_rec_prncp total_rec_int total_rec_late_fee  \\\n",
       "0         5833.84          5000.00        863.16               0.00   \n",
       "1         1008.71           456.46        435.17               0.00   \n",
       "2         3005.67          2400.00        605.67               0.00   \n",
       "3        12231.89         10000.00       2214.92              16.97   \n",
       "4         3513.33          2475.94       1037.39               0.00   \n",
       "\n",
       "  recoveries collection_recovery_fee last_pymnt_d last_pymnt_amnt  \n",
       "0       0.00                    0.00       Jan-15          171.62  \n",
       "1     117.08                    1.11       Apr-13          119.66  \n",
       "2       0.00                    0.00       Jun-14          649.91  \n",
       "3       0.00                    0.00       Jan-15          357.48  \n",
       "4       0.00                    0.00       May-16           67.79  \n",
       "\n",
       "[5 rows x 41 columns]"
      ]
     },
     "execution_count": 32,
     "metadata": {},
     "output_type": "execute_result"
    }
   ],
   "source": [
    "#get an overview of the dataframe\n",
    "df.head()"
   ]
  },
  {
   "cell_type": "markdown",
   "id": "d67777a0",
   "metadata": {},
   "source": [
    "## below are the analysis of the columns present in dataframe"
   ]
  },
  {
   "cell_type": "code",
   "execution_count": 13,
   "id": "2fec33de",
   "metadata": {},
   "outputs": [
    {
     "data": {
      "text/plain": [
       "39717"
      ]
     },
     "execution_count": 13,
     "metadata": {},
     "output_type": "execute_result"
    }
   ],
   "source": [
    "#id\n",
    "df[\"id\"].nunique()\n",
    "#unique id being 39717 which is equal to total number of rows - means its unique for each row "
   ]
  },
  {
   "cell_type": "code",
   "execution_count": 14,
   "id": "8f733572",
   "metadata": {},
   "outputs": [
    {
     "data": {
      "text/plain": [
       "39717"
      ]
     },
     "execution_count": 14,
     "metadata": {},
     "output_type": "execute_result"
    }
   ],
   "source": [
    "#member_id\n",
    "df[\"member_id\"].nunique()\n",
    "# member id is same as our previous column \"id\" means we can discard on of these column in our later analysis"
   ]
  },
  {
   "cell_type": "code",
   "execution_count": 20,
   "id": "c6ef8bc9",
   "metadata": {},
   "outputs": [
    {
     "data": {
      "text/plain": [
       "10000    2833\n",
       "12000    2334\n",
       "5000     2051\n",
       "6000     1908\n",
       "15000    1895\n",
       "         ... \n",
       "22875       1\n",
       "8175        1\n",
       "19475       1\n",
       "21225       1\n",
       "22550       1\n",
       "Name: loan_amnt, Length: 885, dtype: int64"
      ]
     },
     "execution_count": 20,
     "metadata": {},
     "output_type": "execute_result"
    }
   ],
   "source": [
    "#loan_amnt\n",
    "df[\"loan_amnt\"].value_counts()\n",
    "#based on this distribution we can say multiple borrowers have applied for the same amount.\n",
    "#And most request amount is 10k"
   ]
  },
  {
   "cell_type": "code",
   "execution_count": 18,
   "id": "d9c2d598",
   "metadata": {
    "scrolled": false
   },
   "outputs": [
    {
     "data": {
      "text/plain": [
       "885"
      ]
     },
     "execution_count": 18,
     "metadata": {},
     "output_type": "execute_result"
    }
   ],
   "source": [
    "df[\"loan_amnt\"].nunique()\n",
    "# Total unique Loan applied for by the borrower are 885"
   ]
  },
  {
   "cell_type": "code",
   "execution_count": null,
   "id": "ded8ae78",
   "metadata": {},
   "outputs": [],
   "source": []
  }
 ],
 "metadata": {
  "kernelspec": {
   "display_name": "Python 3 (ipykernel)",
   "language": "python",
   "name": "python3"
  },
  "language_info": {
   "codemirror_mode": {
    "name": "ipython",
    "version": 3
   },
   "file_extension": ".py",
   "mimetype": "text/x-python",
   "name": "python",
   "nbconvert_exporter": "python",
   "pygments_lexer": "ipython3",
   "version": "3.10.0"
  }
 },
 "nbformat": 4,
 "nbformat_minor": 5
}
