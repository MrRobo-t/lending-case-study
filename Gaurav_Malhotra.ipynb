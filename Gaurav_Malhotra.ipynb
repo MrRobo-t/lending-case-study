{
 "cells": [
  {
   "cell_type": "markdown",
   "id": "3f6e3c85",
   "metadata": {},
   "source": [
    "# Imports"
   ]
  },
  {
   "cell_type": "code",
   "execution_count": 1,
   "id": "d2ebfdec",
   "metadata": {},
   "outputs": [],
   "source": [
    "#import the necessary libraries for inital data analysis\n",
    "import numpy as np\n",
    "import pandas as pd\n",
    "import matplotlib.pyplot as plt\n",
    "import seaborn as sns\n",
    "%matplotlib inline"
   ]
  },
  {
   "cell_type": "markdown",
   "id": "48c77ebc",
   "metadata": {},
   "source": [
    "# Data Read"
   ]
  },
  {
   "cell_type": "code",
   "execution_count": 2,
   "id": "7ce11168",
   "metadata": {},
   "outputs": [],
   "source": [
    "#reading the data file in a dataframe, adding low_memory=False to remove warning while reading the data\n",
    "df = pd.read_csv(\"loan.csv\",low_memory=False)"
   ]
  },
  {
   "cell_type": "markdown",
   "id": "9328e0d0",
   "metadata": {},
   "source": [
    "# Data understanding"
   ]
  },
  {
   "cell_type": "code",
   "execution_count": 3,
   "id": "beb34806",
   "metadata": {},
   "outputs": [],
   "source": [
    "# Just by eyeballing the data we can notice some huge data quality issues like\n",
    "# Many columns invalid values like NA\n",
    "# some columns contains redundant values like 0,1,INDIVIDUAL,n or more\n",
    "# some columns have many missing values like columns \"next_pymnt_d\"\n",
    "# some columns have Empty values also "
   ]
  },
  {
   "cell_type": "code",
   "execution_count": 4,
   "id": "de27c432",
   "metadata": {},
   "outputs": [
    {
     "data": {
      "text/plain": [
       "39717"
      ]
     },
     "execution_count": 4,
     "metadata": {},
     "output_type": "execute_result"
    }
   ],
   "source": [
    "# Duplication Check\n",
    "df1 = df.drop([\"id\",\"member_id\"],axis=1)\n",
    "len(df1.drop_duplicates())\n",
    "# we found out that there are no duplicate rows in the updated dataframe after removing the unqiue id's from the data"
   ]
  },
  {
   "cell_type": "markdown",
   "id": "47284086",
   "metadata": {},
   "source": [
    "# Data Cleaning"
   ]
  },
  {
   "cell_type": "code",
   "execution_count": 5,
   "id": "f18f3836",
   "metadata": {},
   "outputs": [
    {
     "data": {
      "text/plain": [
       "(39717, 111)"
      ]
     },
     "execution_count": 5,
     "metadata": {},
     "output_type": "execute_result"
    }
   ],
   "source": [
    "#check shape of your dataframe i.e. how many rows and columns we have in total\n",
    "df.shape"
   ]
  },
  {
   "cell_type": "code",
   "execution_count": 6,
   "id": "46346fca",
   "metadata": {},
   "outputs": [],
   "source": [
    "# Filter out unncessary columns that do not pertain with our use case"
   ]
  },
  {
   "cell_type": "code",
   "execution_count": 7,
   "id": "cf6d9c51",
   "metadata": {},
   "outputs": [],
   "source": [
    "df = df.drop(['collections_12_mths_ex_med','mths_since_last_major_derog','policy_code','application_type',\n",
    "               'annual_inc_joint','dti_joint','verification_status_joint','acc_now_delinq','tot_coll_amt',\n",
    "               'tot_cur_bal','open_acc_6m','open_il_6m','open_il_12m','open_il_24m','mths_since_rcnt_il',\n",
    "               'total_bal_il','il_util','open_rv_12m','open_rv_24m','max_bal_bc','all_util','total_rev_hi_lim',\n",
    "               'inq_fi','total_cu_tl','inq_last_12m','acc_open_past_24mths','avg_cur_bal','bc_open_to_buy',\n",
    "               'bc_util','chargeoff_within_12_mths','delinq_amnt','mo_sin_old_il_acct','mo_sin_old_rev_tl_op',\n",
    "               'mo_sin_rcnt_rev_tl_op','mo_sin_rcnt_tl','mort_acc','mths_since_recent_bc','mths_since_recent_bc_dlq',\n",
    "               'mths_since_recent_inq','mths_since_recent_revol_delinq','num_accts_ever_120_pd','num_actv_bc_tl',\n",
    "               'num_actv_rev_tl','num_bc_sats','num_bc_tl','num_il_tl','num_op_rev_tl','num_rev_accts',\n",
    "               'num_rev_tl_bal_gt_0','num_sats','num_tl_120dpd_2m','num_tl_30dpd','num_tl_90g_dpd_24m',\n",
    "               'num_tl_op_past_12m','pct_tl_nvr_dlq','percent_bc_gt_75','pub_rec_bankruptcies','tax_liens',\n",
    "               'tot_hi_cred_lim','total_bal_ex_mort','total_bc_limit','total_il_high_credit_limit','next_pymnt_d',\n",
    "              'last_credit_pull_d','initial_list_status','mths_since_last_delinq','mths_since_last_record','desc',\n",
    "              'pymnt_plan','url'],axis=1)"
   ]
  },
  {
   "cell_type": "code",
   "execution_count": 8,
   "id": "81e47316",
   "metadata": {},
   "outputs": [],
   "source": [
    "# some highlight from above cell, we are removing desc column bcoz of 15k approx missing data"
   ]
  },
  {
   "cell_type": "code",
   "execution_count": 9,
   "id": "9ef01b69",
   "metadata": {},
   "outputs": [
    {
     "data": {
      "text/plain": [
       "(39717, 41)"
      ]
     },
     "execution_count": 9,
     "metadata": {},
     "output_type": "execute_result"
    }
   ],
   "source": [
    "#check shape of your dataframe i.e. how many rows and columns we have in total\n",
    "df.shape"
   ]
  },
  {
   "cell_type": "code",
   "execution_count": 10,
   "id": "0efb40c5",
   "metadata": {},
   "outputs": [],
   "source": [
    "# Even after removing many unwanted columns we can notice we still have 41 column, so lets remove some more unrelated or \n",
    "# duplicate columns form the dataframe columns "
   ]
  },
  {
   "cell_type": "code",
   "execution_count": 11,
   "id": "b087cffc",
   "metadata": {},
   "outputs": [],
   "source": [
    "df = df.drop(['id','funded_amnt_inv','issue_d','earliest_cr_line','revol_bal','out_prncp','out_prncp_inv','total_pymnt','total_pymnt_inv','total_rec_prncp','total_rec_int','total_rec_late_fee'],axis=1)"
   ]
  },
  {
   "cell_type": "code",
   "execution_count": 12,
   "id": "7dab8c74",
   "metadata": {},
   "outputs": [],
   "source": [
    "# we can remove \"id\" as we have another unique column(member_id), both columns signify same things even though values are different\n",
    "# we can remove 'funded_amnt_inv' as we are only interested in the loan approved by the LC\n",
    "# we can remove \"issue_d\" , \"out_prncp\", \"out_prncp_inv\" and \"earliest_cr_line\" since we can track the loan status from \"loan_status\" column\n",
    "# we can remove \"revol_bal\". Instead we can use \"revol_util\" which gives value in percentage of the credit used\n",
    "# we can remove \"total_pymnt\" and \"total_pymnt_inv\" as we can track loan status from 'loan_status' column\n",
    "# we can remove 'total_rec_prncp','total_rec_int' and 'total_rec_late_fee' as we can track defaulters from 'loan_status' column"
   ]
  },
  {
   "cell_type": "code",
   "execution_count": 13,
   "id": "a3ae13c6",
   "metadata": {},
   "outputs": [
    {
     "data": {
      "text/plain": [
       "(39717, 29)"
      ]
     },
     "execution_count": 13,
     "metadata": {},
     "output_type": "execute_result"
    }
   ],
   "source": [
    "#check shape of your dataframe i.e. how many rows and columns we have in total\n",
    "df.shape"
   ]
  },
  {
   "cell_type": "code",
   "execution_count": 14,
   "id": "2bf7a3a6",
   "metadata": {
    "scrolled": true
   },
   "outputs": [
    {
     "data": {
      "text/html": [
       "<div>\n",
       "<style scoped>\n",
       "    .dataframe tbody tr th:only-of-type {\n",
       "        vertical-align: middle;\n",
       "    }\n",
       "\n",
       "    .dataframe tbody tr th {\n",
       "        vertical-align: top;\n",
       "    }\n",
       "\n",
       "    .dataframe thead th {\n",
       "        text-align: right;\n",
       "    }\n",
       "</style>\n",
       "<table border=\"1\" class=\"dataframe\">\n",
       "  <thead>\n",
       "    <tr style=\"text-align: right;\">\n",
       "      <th></th>\n",
       "      <th>member_id</th>\n",
       "      <th>loan_amnt</th>\n",
       "      <th>funded_amnt</th>\n",
       "      <th>term</th>\n",
       "      <th>int_rate</th>\n",
       "      <th>installment</th>\n",
       "      <th>grade</th>\n",
       "      <th>sub_grade</th>\n",
       "      <th>emp_title</th>\n",
       "      <th>emp_length</th>\n",
       "      <th>...</th>\n",
       "      <th>delinq_2yrs</th>\n",
       "      <th>inq_last_6mths</th>\n",
       "      <th>open_acc</th>\n",
       "      <th>pub_rec</th>\n",
       "      <th>revol_util</th>\n",
       "      <th>total_acc</th>\n",
       "      <th>recoveries</th>\n",
       "      <th>collection_recovery_fee</th>\n",
       "      <th>last_pymnt_d</th>\n",
       "      <th>last_pymnt_amnt</th>\n",
       "    </tr>\n",
       "  </thead>\n",
       "  <tbody>\n",
       "    <tr>\n",
       "      <th>0</th>\n",
       "      <td>1296599</td>\n",
       "      <td>5000</td>\n",
       "      <td>5000</td>\n",
       "      <td>36 months</td>\n",
       "      <td>10.65%</td>\n",
       "      <td>162.87</td>\n",
       "      <td>B</td>\n",
       "      <td>B2</td>\n",
       "      <td>NaN</td>\n",
       "      <td>10+ years</td>\n",
       "      <td>...</td>\n",
       "      <td>0</td>\n",
       "      <td>1</td>\n",
       "      <td>3</td>\n",
       "      <td>0</td>\n",
       "      <td>83.70%</td>\n",
       "      <td>9</td>\n",
       "      <td>0.00</td>\n",
       "      <td>0.00</td>\n",
       "      <td>Jan-15</td>\n",
       "      <td>171.62</td>\n",
       "    </tr>\n",
       "    <tr>\n",
       "      <th>1</th>\n",
       "      <td>1314167</td>\n",
       "      <td>2500</td>\n",
       "      <td>2500</td>\n",
       "      <td>60 months</td>\n",
       "      <td>15.27%</td>\n",
       "      <td>59.83</td>\n",
       "      <td>C</td>\n",
       "      <td>C4</td>\n",
       "      <td>Ryder</td>\n",
       "      <td>&lt; 1 year</td>\n",
       "      <td>...</td>\n",
       "      <td>0</td>\n",
       "      <td>5</td>\n",
       "      <td>3</td>\n",
       "      <td>0</td>\n",
       "      <td>9.40%</td>\n",
       "      <td>4</td>\n",
       "      <td>117.08</td>\n",
       "      <td>1.11</td>\n",
       "      <td>Apr-13</td>\n",
       "      <td>119.66</td>\n",
       "    </tr>\n",
       "    <tr>\n",
       "      <th>2</th>\n",
       "      <td>1313524</td>\n",
       "      <td>2400</td>\n",
       "      <td>2400</td>\n",
       "      <td>36 months</td>\n",
       "      <td>15.96%</td>\n",
       "      <td>84.33</td>\n",
       "      <td>C</td>\n",
       "      <td>C5</td>\n",
       "      <td>NaN</td>\n",
       "      <td>10+ years</td>\n",
       "      <td>...</td>\n",
       "      <td>0</td>\n",
       "      <td>2</td>\n",
       "      <td>2</td>\n",
       "      <td>0</td>\n",
       "      <td>98.50%</td>\n",
       "      <td>10</td>\n",
       "      <td>0.00</td>\n",
       "      <td>0.00</td>\n",
       "      <td>Jun-14</td>\n",
       "      <td>649.91</td>\n",
       "    </tr>\n",
       "    <tr>\n",
       "      <th>3</th>\n",
       "      <td>1277178</td>\n",
       "      <td>10000</td>\n",
       "      <td>10000</td>\n",
       "      <td>36 months</td>\n",
       "      <td>13.49%</td>\n",
       "      <td>339.31</td>\n",
       "      <td>C</td>\n",
       "      <td>C1</td>\n",
       "      <td>AIR RESOURCES BOARD</td>\n",
       "      <td>10+ years</td>\n",
       "      <td>...</td>\n",
       "      <td>0</td>\n",
       "      <td>1</td>\n",
       "      <td>10</td>\n",
       "      <td>0</td>\n",
       "      <td>21%</td>\n",
       "      <td>37</td>\n",
       "      <td>0.00</td>\n",
       "      <td>0.00</td>\n",
       "      <td>Jan-15</td>\n",
       "      <td>357.48</td>\n",
       "    </tr>\n",
       "    <tr>\n",
       "      <th>4</th>\n",
       "      <td>1311748</td>\n",
       "      <td>3000</td>\n",
       "      <td>3000</td>\n",
       "      <td>60 months</td>\n",
       "      <td>12.69%</td>\n",
       "      <td>67.79</td>\n",
       "      <td>B</td>\n",
       "      <td>B5</td>\n",
       "      <td>University Medical Group</td>\n",
       "      <td>1 year</td>\n",
       "      <td>...</td>\n",
       "      <td>0</td>\n",
       "      <td>0</td>\n",
       "      <td>15</td>\n",
       "      <td>0</td>\n",
       "      <td>53.90%</td>\n",
       "      <td>38</td>\n",
       "      <td>0.00</td>\n",
       "      <td>0.00</td>\n",
       "      <td>May-16</td>\n",
       "      <td>67.79</td>\n",
       "    </tr>\n",
       "  </tbody>\n",
       "</table>\n",
       "<p>5 rows × 29 columns</p>\n",
       "</div>"
      ],
      "text/plain": [
       "   member_id  loan_amnt  funded_amnt        term int_rate  installment grade  \\\n",
       "0    1296599       5000         5000   36 months   10.65%       162.87     B   \n",
       "1    1314167       2500         2500   60 months   15.27%        59.83     C   \n",
       "2    1313524       2400         2400   36 months   15.96%        84.33     C   \n",
       "3    1277178      10000        10000   36 months   13.49%       339.31     C   \n",
       "4    1311748       3000         3000   60 months   12.69%        67.79     B   \n",
       "\n",
       "  sub_grade                 emp_title emp_length  ... delinq_2yrs  \\\n",
       "0        B2                       NaN  10+ years  ...           0   \n",
       "1        C4                     Ryder   < 1 year  ...           0   \n",
       "2        C5                       NaN  10+ years  ...           0   \n",
       "3        C1       AIR RESOURCES BOARD  10+ years  ...           0   \n",
       "4        B5  University Medical Group     1 year  ...           0   \n",
       "\n",
       "   inq_last_6mths open_acc pub_rec revol_util total_acc recoveries  \\\n",
       "0               1        3       0     83.70%         9       0.00   \n",
       "1               5        3       0      9.40%         4     117.08   \n",
       "2               2        2       0     98.50%        10       0.00   \n",
       "3               1       10       0        21%        37       0.00   \n",
       "4               0       15       0     53.90%        38       0.00   \n",
       "\n",
       "  collection_recovery_fee  last_pymnt_d  last_pymnt_amnt  \n",
       "0                    0.00        Jan-15           171.62  \n",
       "1                    1.11        Apr-13           119.66  \n",
       "2                    0.00        Jun-14           649.91  \n",
       "3                    0.00        Jan-15           357.48  \n",
       "4                    0.00        May-16            67.79  \n",
       "\n",
       "[5 rows x 29 columns]"
      ]
     },
     "execution_count": 14,
     "metadata": {},
     "output_type": "execute_result"
    }
   ],
   "source": [
    "#get an overview of the dataframe\n",
    "df.head()"
   ]
  },
  {
   "cell_type": "markdown",
   "id": "f12b78fa",
   "metadata": {},
   "source": [
    "## Handling Mising Values"
   ]
  },
  {
   "cell_type": "code",
   "execution_count": 15,
   "id": "591358a7",
   "metadata": {},
   "outputs": [
    {
     "data": {
      "text/plain": [
       "Index(['emp_title', 'emp_length', 'title', 'revol_util', 'last_pymnt_d'], dtype='object')"
      ]
     },
     "execution_count": 15,
     "metadata": {},
     "output_type": "execute_result"
    }
   ],
   "source": [
    "# The commands helps us to identify all the columns which contain empty values\n",
    "df.columns[df.isnull().any()]"
   ]
  },
  {
   "cell_type": "code",
   "execution_count": 16,
   "id": "824fe3e3",
   "metadata": {},
   "outputs": [
    {
     "data": {
      "text/plain": [
       "2459"
      ]
     },
     "execution_count": 16,
     "metadata": {},
     "output_type": "execute_result"
    }
   ],
   "source": [
    "# Counting total number of missing values\n",
    "len(df[df['emp_title'].isnull()])"
   ]
  },
  {
   "cell_type": "code",
   "execution_count": 17,
   "id": "2ee56daa",
   "metadata": {},
   "outputs": [],
   "source": [
    "# As we can see in the purpose column that these are small businesses or students who have applied for loan, therefore\n",
    "# we can replace the missing values as self employed/student\n",
    "\n",
    "df['emp_title'].fillna(\"Self-Employed/Student\",inplace=True)"
   ]
  },
  {
   "cell_type": "code",
   "execution_count": 18,
   "id": "fb800fc4",
   "metadata": {},
   "outputs": [],
   "source": [
    "# Finding total number of missing values in employee_length column"
   ]
  },
  {
   "cell_type": "code",
   "execution_count": 19,
   "id": "0a2499f5",
   "metadata": {
    "scrolled": true
   },
   "outputs": [
    {
     "data": {
      "text/plain": [
       "1075"
      ]
     },
     "execution_count": 19,
     "metadata": {},
     "output_type": "execute_result"
    }
   ],
   "source": [
    "len(df[df['emp_length'].isnull()])"
   ]
  },
  {
   "cell_type": "code",
   "execution_count": 20,
   "id": "9aa527a5",
   "metadata": {},
   "outputs": [],
   "source": [
    "# Checking data distribution"
   ]
  },
  {
   "cell_type": "code",
   "execution_count": 21,
   "id": "4eea8fa8",
   "metadata": {},
   "outputs": [
    {
     "data": {
      "text/plain": [
       "10+ years    8879\n",
       "< 1 year     4583\n",
       "2 years      4388\n",
       "3 years      4095\n",
       "4 years      3436\n",
       "5 years      3282\n",
       "1 year       3240\n",
       "6 years      2229\n",
       "7 years      1773\n",
       "8 years      1479\n",
       "9 years      1258\n",
       "Name: emp_length, dtype: int64"
      ]
     },
     "execution_count": 21,
     "metadata": {},
     "output_type": "execute_result"
    }
   ],
   "source": [
    "df['emp_length'].value_counts()"
   ]
  },
  {
   "cell_type": "code",
   "execution_count": 22,
   "id": "7bdfeaee",
   "metadata": {},
   "outputs": [],
   "source": [
    "# To fill these missing values we cannot find an optimal solution as taking the average or median will not align with the\n",
    "# employee as he/she could be a startup or student. We need some tangible proof as <1 years would also not justify.\n",
    "\n",
    "df.dropna(subset=['emp_length'],inplace=True)"
   ]
  },
  {
   "cell_type": "code",
   "execution_count": 23,
   "id": "69847384",
   "metadata": {},
   "outputs": [
    {
     "data": {
      "text/plain": [
       "(38642, 29)"
      ]
     },
     "execution_count": 23,
     "metadata": {},
     "output_type": "execute_result"
    }
   ],
   "source": [
    "df.shape"
   ]
  },
  {
   "cell_type": "code",
   "execution_count": 24,
   "id": "6bc51cb5",
   "metadata": {},
   "outputs": [],
   "source": [
    "# Finding total number of missing values in title column"
   ]
  },
  {
   "cell_type": "code",
   "execution_count": 25,
   "id": "7b7e92a7",
   "metadata": {},
   "outputs": [
    {
     "data": {
      "text/plain": [
       "10"
      ]
     },
     "execution_count": 25,
     "metadata": {},
     "output_type": "execute_result"
    }
   ],
   "source": [
    "len(df[df['title'].isnull()])"
   ]
  },
  {
   "cell_type": "code",
   "execution_count": 26,
   "id": "16ab1b88",
   "metadata": {},
   "outputs": [],
   "source": [
    "# We can simply remove these rows are they won't affect our dataset by a huge margin"
   ]
  },
  {
   "cell_type": "code",
   "execution_count": 27,
   "id": "ba12666b",
   "metadata": {},
   "outputs": [],
   "source": [
    "df.dropna(subset=['title'],inplace=True)"
   ]
  },
  {
   "cell_type": "code",
   "execution_count": 28,
   "id": "811cd212",
   "metadata": {},
   "outputs": [
    {
     "data": {
      "text/plain": [
       "(38632, 29)"
      ]
     },
     "execution_count": 28,
     "metadata": {},
     "output_type": "execute_result"
    }
   ],
   "source": [
    "df.shape"
   ]
  },
  {
   "cell_type": "code",
   "execution_count": 29,
   "id": "9370365d",
   "metadata": {},
   "outputs": [
    {
     "data": {
      "text/plain": [
       "47"
      ]
     },
     "execution_count": 29,
     "metadata": {},
     "output_type": "execute_result"
    }
   ],
   "source": [
    "# Finding total number of missing values in revol_util column\n",
    "len(df[df['revol_util'].isnull()])\n"
   ]
  },
  {
   "cell_type": "code",
   "execution_count": 30,
   "id": "1fdd69ab",
   "metadata": {},
   "outputs": [],
   "source": [
    "# We can simply remove these rows are they won't affect our dataset by a huge margin"
   ]
  },
  {
   "cell_type": "code",
   "execution_count": 31,
   "id": "fc34cb60",
   "metadata": {},
   "outputs": [],
   "source": [
    "df.dropna(subset=['revol_util'],inplace=True)"
   ]
  },
  {
   "cell_type": "code",
   "execution_count": 32,
   "id": "5455a821",
   "metadata": {},
   "outputs": [
    {
     "data": {
      "text/plain": [
       "(38585, 29)"
      ]
     },
     "execution_count": 32,
     "metadata": {},
     "output_type": "execute_result"
    }
   ],
   "source": [
    "df.shape"
   ]
  },
  {
   "cell_type": "code",
   "execution_count": 33,
   "id": "0d4720b3",
   "metadata": {},
   "outputs": [
    {
     "data": {
      "text/plain": [
       "62"
      ]
     },
     "execution_count": 33,
     "metadata": {},
     "output_type": "execute_result"
    }
   ],
   "source": [
    "# Finding total number of missing values in last_pymnt_d column\n",
    "len(df[df['last_pymnt_d'].isnull()])"
   ]
  },
  {
   "cell_type": "code",
   "execution_count": 34,
   "id": "646420d3",
   "metadata": {},
   "outputs": [],
   "source": [
    "# We can simply remove these rows are they won't affect our dataset by a huge margin"
   ]
  },
  {
   "cell_type": "code",
   "execution_count": 35,
   "id": "8c719e12",
   "metadata": {},
   "outputs": [],
   "source": [
    "df.dropna(subset=['revol_util'],inplace=True)"
   ]
  },
  {
   "cell_type": "code",
   "execution_count": 36,
   "id": "432ff679",
   "metadata": {},
   "outputs": [
    {
     "data": {
      "text/plain": [
       "(38585, 29)"
      ]
     },
     "execution_count": 36,
     "metadata": {},
     "output_type": "execute_result"
    }
   ],
   "source": [
    "df.shape"
   ]
  },
  {
   "cell_type": "code",
   "execution_count": 37,
   "id": "65e361dc",
   "metadata": {},
   "outputs": [],
   "source": [
    "#changing int_rate to float , for easier data handling later\n",
    "df[\"int_rate\"]=df[\"int_rate\"].str.replace(\"%\",\"\").astype(float).apply(lambda x: round(x))"
   ]
  },
  {
   "cell_type": "code",
   "execution_count": 38,
   "id": "99e46ad5",
   "metadata": {},
   "outputs": [],
   "source": [
    "# changing emp_length into cleaned version for easier understanding\n",
    "df.emp_length=df.emp_length.str.replace(\" year\",\"\")\n",
    "df.emp_length=df.emp_length.str.replace(\" years\",\"\")\n",
    "df.emp_length=df.emp_length.str.replace(\"s\",\"\")"
   ]
  },
  {
   "cell_type": "markdown",
   "id": "4b54c26c",
   "metadata": {},
   "source": []
  },
  {
   "cell_type": "markdown",
   "id": "be93c3b5",
   "metadata": {},
   "source": [
    "## Univariate Analysis"
   ]
  },
  {
   "cell_type": "code",
   "execution_count": 39,
   "id": "8f733572",
   "metadata": {},
   "outputs": [
    {
     "data": {
      "text/plain": [
       "38585"
      ]
     },
     "execution_count": 39,
     "metadata": {},
     "output_type": "execute_result"
    }
   ],
   "source": [
    "#member_id\n",
    "df[\"member_id\"].nunique()\n",
    "# member id is same as our previous column \"id\" means we can discard on of these column in our later analysis"
   ]
  },
  {
   "cell_type": "code",
   "execution_count": 40,
   "id": "c6ef8bc9",
   "metadata": {},
   "outputs": [
    {
     "data": {
      "text/plain": [
       "10000    2764\n",
       "12000    2295\n",
       "5000     1976\n",
       "15000    1860\n",
       "6000     1853\n",
       "         ... \n",
       "19475       1\n",
       "21225       1\n",
       "17225       1\n",
       "12425       1\n",
       "22550       1\n",
       "Name: loan_amnt, Length: 879, dtype: int64"
      ]
     },
     "execution_count": 40,
     "metadata": {},
     "output_type": "execute_result"
    }
   ],
   "source": [
    "#loan_amnt\n",
    "df[\"loan_amnt\"].value_counts()\n",
    "#based on this distribution we can say multiple borrowers have applied for the same amount.\n",
    "#And most request amount is 10k"
   ]
  },
  {
   "cell_type": "code",
   "execution_count": 41,
   "id": "d9c2d598",
   "metadata": {
    "scrolled": false
   },
   "outputs": [
    {
     "data": {
      "text/plain": [
       "879"
      ]
     },
     "execution_count": 41,
     "metadata": {},
     "output_type": "execute_result"
    }
   ],
   "source": [
    "df[\"loan_amnt\"].nunique()\n",
    "# Total unique Loan applied for by the borrower are 885"
   ]
  },
  {
   "cell_type": "code",
   "execution_count": 42,
   "id": "597d2031",
   "metadata": {},
   "outputs": [
    {
     "data": {
      "text/plain": [
       "<AxesSubplot:>"
      ]
     },
     "execution_count": 42,
     "metadata": {},
     "output_type": "execute_result"
    },
    {
     "data": {
      "image/png": "[encoded data removed]",
      "text/plain": [
       "<Figure size 432x288 with 1 Axes>"
      ]
     },
     "metadata": {
      "needs_background": "light"
     },
     "output_type": "display_data"
    }
   ],
   "source": [
    "df['loan_amnt'].plot.box()"
   ]
  },
  {
   "cell_type": "code",
   "execution_count": 43,
   "id": "124f8ff8",
   "metadata": {},
   "outputs": [],
   "source": [
    "#almost all our observation are in range of 30k to 35k"
   ]
  },
  {
   "cell_type": "code",
   "execution_count": 44,
   "id": "77afe234",
   "metadata": {
    "scrolled": true
   },
   "outputs": [
    {
     "data": {
      "text/plain": [
       "<matplotlib.collections.PathCollection at 0x1f63786fb50>"
      ]
     },
     "execution_count": 44,
     "metadata": {},
     "output_type": "execute_result"
    },
    {
     "data": {
      "image/png": "[encoded data removed]",
      "text/plain": [
       "<Figure size 432x288 with 1 Axes>"
      ]
     },
     "metadata": {
      "needs_background": "light"
     },
     "output_type": "display_data"
    }
   ],
   "source": [
    "# plot the scatter graph \n",
    "# plt.xscale(\"log\")\n",
    "# plt.yscale(\"log\")\n",
    "plt.ylabel(\"Loan Amount\")\n",
    "plt.xlabel(\"Number of borrowers\")\n",
    "plt.scatter(list(df.loan_amnt.value_counts()),\n",
    "       list(df.loan_amnt.value_counts().index))\n",
    "\n",
    "# We can infer that only 1 borrower has borrowed per very high amount. "
   ]
  },
  {
   "cell_type": "code",
   "execution_count": 45,
   "id": "df6eefaf",
   "metadata": {},
   "outputs": [
    {
     "data": {
      "text/plain": [
       "11    4947\n",
       "13    4667\n",
       "10    3314\n",
       "8     3275\n",
       "12    3180\n",
       "7     3149\n",
       "14    2839\n",
       "16    2617\n",
       "15    2539\n",
       "9     1484\n",
       "17    1482\n",
       "6     1442\n",
       "18    1163\n",
       "19     861\n",
       "5      524\n",
       "20     486\n",
       "21     351\n",
       "22     187\n",
       "23      49\n",
       "24      28\n",
       "25       1\n",
       "Name: int_rate, dtype: int64"
      ]
     },
     "execution_count": 45,
     "metadata": {},
     "output_type": "execute_result"
    }
   ],
   "source": [
    "#int_rate\n",
    "df[\"int_rate\"].value_counts()\n",
    "#based on this distribution we can say multiple borrowers have applied for the same amount.\n",
    "#And most request amount is 10.99"
   ]
  },
  {
   "cell_type": "code",
   "execution_count": 46,
   "id": "2eb318f9",
   "metadata": {},
   "outputs": [
    {
     "data": {
      "text/plain": [
       "12.0"
      ]
     },
     "execution_count": 46,
     "metadata": {},
     "output_type": "execute_result"
    }
   ],
   "source": [
    "df[\"int_rate\"].median()\n",
    "# Total unique interest rate applied for loan by LC are 371 and median intereset rate is approx 12.0"
   ]
  },
  {
   "cell_type": "code",
   "execution_count": 48,
   "id": "2b15c799",
   "metadata": {},
   "outputs": [
    {
     "data": {
      "text/plain": [
       "[<matplotlib.lines.Line2D at 0x1f63f45a890>]"
      ]
     },
     "execution_count": 48,
     "metadata": {},
     "output_type": "execute_result"
    },
    {
     "data": {
      "image/png": "[encoded data removed]",
      "text/plain": [
       "<Figure size 432x288 with 1 Axes>"
      ]
     },
     "metadata": {
      "needs_background": "light"
     },
     "output_type": "display_data"
    }
   ],
   "source": [
    "# plot the scatter graph \n",
    "\n",
    "plt.plot(list(df[\"int_rate\"].value_counts()),\n",
    "       list(df[\"int_rate\"].value_counts().index),'--bo')"
   ]
  },
  {
   "cell_type": "code",
   "execution_count": 49,
   "id": "925b7f2e",
   "metadata": {},
   "outputs": [
    {
     "data": {
      "text/plain": [
       "B    11682\n",
       "A     9694\n",
       "C     7913\n",
       "D     5176\n",
       "E     2783\n",
       "F     1024\n",
       "G      313\n",
       "Name: grade, dtype: int64"
      ]
     },
     "execution_count": 49,
     "metadata": {},
     "output_type": "execute_result"
    }
   ],
   "source": [
    "#grade\n",
    "df[\"grade\"].value_counts()\n",
    "#based on this distribution we can say most of the borrowers fall into B grade"
   ]
  },
  {
   "cell_type": "code",
   "execution_count": 50,
   "id": "e6042c53",
   "metadata": {},
   "outputs": [
    {
     "data": {
      "text/plain": [
       "7"
      ]
     },
     "execution_count": 50,
     "metadata": {},
     "output_type": "execute_result"
    }
   ],
   "source": [
    "df[\"grade\"].nunique()\n",
    "# Total unique grades by LC are 7"
   ]
  },
  {
   "cell_type": "code",
   "execution_count": 51,
   "id": "1607f45b",
   "metadata": {},
   "outputs": [
    {
     "data": {
      "text/plain": [
       "[<matplotlib.lines.Line2D at 0x1f63f47fd00>]"
      ]
     },
     "execution_count": 51,
     "metadata": {},
     "output_type": "execute_result"
    },
    {
     "data": {
      "image/png": "[encoded data removed]",
      "text/plain": [
       "<Figure size 432x288 with 1 Axes>"
      ]
     },
     "metadata": {
      "needs_background": "light"
     },
     "output_type": "display_data"
    }
   ],
   "source": [
    "# plot the line graph \n",
    "plt.xlabel(\"Grade\")\n",
    "plt.ylabel(\"Number of borrowers\")\n",
    "plt.plot(list(df[\"grade\"].value_counts().index),\n",
    "       list(df[\"grade\"].value_counts()),'--bo')"
   ]
  },
  {
   "cell_type": "code",
   "execution_count": 52,
   "id": "e11e6087",
   "metadata": {},
   "outputs": [
    {
     "data": {
      "text/plain": [
       "Not Verified       16466\n",
       "Verified           12343\n",
       "Source Verified     9776\n",
       "Name: verification_status, dtype: int64"
      ]
     },
     "execution_count": 52,
     "metadata": {},
     "output_type": "execute_result"
    }
   ],
   "source": [
    "# verification_status\n",
    "df[\"verification_status\"].value_counts()\n",
    "# We can infer that about 16000 who applied for loan are not verified and may be defaulters. "
   ]
  },
  {
   "cell_type": "code",
   "execution_count": 53,
   "id": "8a48cd03",
   "metadata": {},
   "outputs": [
    {
     "data": {
      "text/plain": [
       "<BarContainer object of 3 artists>"
      ]
     },
     "execution_count": 53,
     "metadata": {},
     "output_type": "execute_result"
    },
    {
     "data": {
      "image/png": "[encoded data removed]",
      "text/plain": [
       "<Figure size 432x288 with 1 Axes>"
      ]
     },
     "metadata": {
      "needs_background": "light"
     },
     "output_type": "display_data"
    }
   ],
   "source": [
    "# plot the scatter graph \n",
    "plt.xlabel(\"Status Values\")\n",
    "plt.ylabel(\"Number of borrowers\")\n",
    "plt.bar(list(df[\"verification_status\"].value_counts().index),\n",
    "       list(df[\"verification_status\"].value_counts()),width=0.5) "
   ]
  },
  {
   "cell_type": "code",
   "execution_count": 54,
   "id": "b5bf6a8e",
   "metadata": {},
   "outputs": [
    {
     "data": {
      "text/plain": [
       "Fully Paid     32104\n",
       "Charged Off     5383\n",
       "Current         1098\n",
       "Name: loan_status, dtype: int64"
      ]
     },
     "execution_count": 54,
     "metadata": {},
     "output_type": "execute_result"
    }
   ],
   "source": [
    "#loan_status\n",
    "df[\"loan_status\"].value_counts()\n",
    "\n",
    "# We can infer that about 32104 who applied for loan have fully paid them whereas 5383 are defaulters"
   ]
  },
  {
   "cell_type": "code",
   "execution_count": 55,
   "id": "39ad5539",
   "metadata": {},
   "outputs": [
    {
     "data": {
      "text/plain": [
       "<BarContainer object of 3 artists>"
      ]
     },
     "execution_count": 55,
     "metadata": {},
     "output_type": "execute_result"
    },
    {
     "data": {
      "image/png": "[encoded data removed]",
      "text/plain": [
       "<Figure size 432x288 with 1 Axes>"
      ]
     },
     "metadata": {
      "needs_background": "light"
     },
     "output_type": "display_data"
    }
   ],
   "source": [
    "# plot the bar graph \n",
    "plt.xlabel(\"Loan Status\")\n",
    "plt.ylabel(\"Number of borrowers\")\n",
    "plt.bar(list(df[\"loan_status\"].value_counts().index),\n",
    "       list(df[\"loan_status\"].value_counts()),width=0.5) "
   ]
  },
  {
   "cell_type": "code",
   "execution_count": 56,
   "id": "88b91a51",
   "metadata": {},
   "outputs": [
    {
     "data": {
      "text/plain": [
       "16    1436\n",
       "15    1422\n",
       "17    1412\n",
       "14    1406\n",
       "20    1399\n",
       "      ... \n",
       "78       1\n",
       "72       1\n",
       "87       1\n",
       "77       1\n",
       "76       1\n",
       "Name: total_acc, Length: 82, dtype: int64"
      ]
     },
     "execution_count": 56,
     "metadata": {},
     "output_type": "execute_result"
    }
   ],
   "source": [
    "#total_accounts\n",
    "\n",
    "df[\"total_acc\"].value_counts()\n",
    "# We can infer that the 1436 people are having 16 total accounts whereas as many as 76 accounts are held by a single person/entity"
   ]
  },
  {
   "cell_type": "code",
   "execution_count": 57,
   "id": "ce2ba7fe",
   "metadata": {},
   "outputs": [
    {
     "data": {
      "text/plain": [
       "20.0"
      ]
     },
     "execution_count": 57,
     "metadata": {},
     "output_type": "execute_result"
    }
   ],
   "source": [
    "df[\"total_acc\"].median()\n",
    "# Median of total accounts is 20"
   ]
  },
  {
   "cell_type": "code",
   "execution_count": 58,
   "id": "90be412e",
   "metadata": {
    "scrolled": true
   },
   "outputs": [
    {
     "data": {
      "text/plain": [
       "[<matplotlib.lines.Line2D at 0x1f63f5a5d80>]"
      ]
     },
     "execution_count": 58,
     "metadata": {},
     "output_type": "execute_result"
    },
    {
     "data": {
      "image/png": "[encoded data removed]",
      "text/plain": [
       "<Figure size 432x288 with 1 Axes>"
      ]
     },
     "metadata": {
      "needs_background": "light"
     },
     "output_type": "display_data"
    }
   ],
   "source": [
    "# plot the line graph \n",
    "plt.xlabel(\"Number of account holders\")\n",
    "plt.ylabel(\"Number of accounts\")\n",
    "plt.plot(list(df[\"total_acc\"].value_counts()),list(df[\"total_acc\"].value_counts().index),'--bo') "
   ]
  },
  {
   "cell_type": "code",
   "execution_count": 59,
   "id": "73f0f1f5",
   "metadata": {},
   "outputs": [
    {
     "data": {
      "text/plain": [
       "0    36594\n",
       "1     1933\n",
       "2       49\n",
       "3        7\n",
       "4        2\n",
       "Name: pub_rec, dtype: int64"
      ]
     },
     "execution_count": 59,
     "metadata": {},
     "output_type": "execute_result"
    }
   ],
   "source": [
    "#pub_rec\n",
    "\n",
    "df[\"pub_rec\"].value_counts()\n",
    "# We can infer that most of the people/entity have 0 derogatory public records"
   ]
  },
  {
   "cell_type": "code",
   "execution_count": 60,
   "id": "76ffcd9b",
   "metadata": {},
   "outputs": [
    {
     "data": {
      "text/plain": [
       "0.0"
      ]
     },
     "execution_count": 60,
     "metadata": {},
     "output_type": "execute_result"
    }
   ],
   "source": [
    "df[\"pub_rec\"].median()\n",
    "# Median of derogatory public records is 0"
   ]
  },
  {
   "cell_type": "code",
   "execution_count": 61,
   "id": "70ab5317",
   "metadata": {},
   "outputs": [
    {
     "data": {
      "text/plain": [
       "[<matplotlib.lines.Line2D at 0x1f63f620d00>]"
      ]
     },
     "execution_count": 61,
     "metadata": {},
     "output_type": "execute_result"
    },
    {
     "data": {
      "image/png": "[encoded data removed]",
      "text/plain": [
       "<Figure size 432x288 with 1 Axes>"
      ]
     },
     "metadata": {
      "needs_background": "light"
     },
     "output_type": "display_data"
    }
   ],
   "source": [
    "# plot the line graph \n",
    "plt.xlabel(\"Derogatory records\")\n",
    "plt.ylabel(\"Number of borrowers\")\n",
    "plt.plot(list(df[\"pub_rec\"].value_counts().index),\n",
    "       list(df[\"pub_rec\"].value_counts()),'--bo') "
   ]
  },
  {
   "cell_type": "code",
   "execution_count": null,
   "id": "32bd588c",
   "metadata": {},
   "outputs": [],
   "source": []
  },
  {
   "cell_type": "markdown",
   "id": "f1519997",
   "metadata": {},
   "source": [
    "# Bivariant analysis"
   ]
  },
  {
   "cell_type": "code",
   "execution_count": 62,
   "id": "99843cd3",
   "metadata": {},
   "outputs": [],
   "source": [
    "# According to our use case we can simply decide what is the deciding factor to give a loan is depends on this column \n",
    "# \"loan_status\" so we will take it as our target variable and do our analysis with respect to this"
   ]
  },
  {
   "cell_type": "code",
   "execution_count": 63,
   "id": "1351fcac",
   "metadata": {},
   "outputs": [],
   "source": [
    "# After doing univariant analysis we have noticed some points and we have come up with some hypothesis based on that \n",
    "# we can do our analysis on below points\n",
    "\n",
    "# borrower with high \"loan_amnt\" might be a trouble\n",
    "# less \"term\" for repayment might be risky, hence reject loan\n",
    "# high \"int_rate\" might be burden for many borrowers\n",
    "# the longer \"emp_length\" history is directly propotional to loan approval(fully paid)\n",
    "# borrower with higher \"annual_inc\" might have more chances of getting their loans approved.\n",
    "# \"verification_status\" borrower will get approved fast\n",
    "# \"total_acc\" ...."
   ]
  },
  {
   "cell_type": "code",
   "execution_count": 64,
   "id": "605c37c9",
   "metadata": {},
   "outputs": [
    {
     "data": {
      "text/plain": [
       "Index(['member_id', 'loan_amnt', 'funded_amnt', 'term', 'int_rate',\n",
       "       'installment', 'grade', 'sub_grade', 'emp_title', 'emp_length',\n",
       "       'home_ownership', 'annual_inc', 'verification_status', 'loan_status',\n",
       "       'purpose', 'title', 'zip_code', 'addr_state', 'dti', 'delinq_2yrs',\n",
       "       'inq_last_6mths', 'open_acc', 'pub_rec', 'revol_util', 'total_acc',\n",
       "       'recoveries', 'collection_recovery_fee', 'last_pymnt_d',\n",
       "       'last_pymnt_amnt'],\n",
       "      dtype='object')"
      ]
     },
     "execution_count": 64,
     "metadata": {},
     "output_type": "execute_result"
    }
   ],
   "source": [
    "df.columns"
   ]
  },
  {
   "cell_type": "code",
   "execution_count": 65,
   "id": "3b215093",
   "metadata": {},
   "outputs": [],
   "source": [
    "# loan_amnt"
   ]
  },
  {
   "cell_type": "code",
   "execution_count": 66,
   "id": "8198af05",
   "metadata": {},
   "outputs": [],
   "source": [
    "bins = np.linspace(df.loan_amnt.min(), df.loan_amnt.max(),12)"
   ]
  },
  {
   "cell_type": "code",
   "execution_count": 67,
   "id": "71f760d6",
   "metadata": {},
   "outputs": [
    {
     "data": {
      "text/plain": [
       "<seaborn.axisgrid.FacetGrid at 0x1f63f64b910>"
      ]
     },
     "execution_count": 67,
     "metadata": {},
     "output_type": "execute_result"
    },
    {
     "data": {
      "image/png": "[encoded data removed]",
      "text/plain": [
       "<Figure size 648x216 with 3 Axes>"
      ]
     },
     "metadata": {
      "needs_background": "light"
     },
     "output_type": "display_data"
    }
   ],
   "source": [
    "graph = sns.FacetGrid(df, col=\"loan_status\", hue=\"loan_status\", palette=\"Set3\")\n",
    "graph.map(plt.hist, 'loan_amnt', bins=bins, ec=\"k\")"
   ]
  },
  {
   "cell_type": "code",
   "execution_count": 68,
   "id": "ded5c1cf",
   "metadata": {},
   "outputs": [],
   "source": [
    "# from above visualization we can say that\n",
    "# most requested loan amount was in between 5k to 15k and has been paid fully \n",
    "# but the charged off status is in the same range, so it becomes high risk and high reward"
   ]
  },
  {
   "cell_type": "code",
   "execution_count": null,
   "id": "3bb1bf0b",
   "metadata": {},
   "outputs": [],
   "source": []
  },
  {
   "cell_type": "code",
   "execution_count": 69,
   "id": "10401a96",
   "metadata": {},
   "outputs": [],
   "source": [
    "# term"
   ]
  },
  {
   "cell_type": "code",
   "execution_count": 70,
   "id": "40ae7e3a",
   "metadata": {},
   "outputs": [
    {
     "data": {
      "text/plain": [
       "<AxesSubplot:xlabel='term', ylabel='count'>"
      ]
     },
     "execution_count": 70,
     "metadata": {},
     "output_type": "execute_result"
    },
    {
     "data": {
      "image/png": "[encoded data removed]",
      "text/plain": [
       "<Figure size 432x288 with 1 Axes>"
      ]
     },
     "metadata": {
      "needs_background": "light"
     },
     "output_type": "display_data"
    }
   ],
   "source": [
    "sns.countplot(x=\"term\", hue='loan_status', data=df)"
   ]
  },
  {
   "cell_type": "code",
   "execution_count": 71,
   "id": "31ce4547",
   "metadata": {},
   "outputs": [],
   "source": [
    "# there are only two term rates present and clearly we can noticed highly requested term is 36 months and \n",
    "# has been fully paid also"
   ]
  },
  {
   "cell_type": "code",
   "execution_count": null,
   "id": "bce64167",
   "metadata": {},
   "outputs": [],
   "source": []
  },
  {
   "cell_type": "code",
   "execution_count": 72,
   "id": "9454e144",
   "metadata": {},
   "outputs": [],
   "source": [
    "# int_rate"
   ]
  },
  {
   "cell_type": "code",
   "execution_count": 73,
   "id": "b94d34a8",
   "metadata": {},
   "outputs": [],
   "source": [
    "bins = np.linspace(df[\"int_rate\"].min(),\n",
    "                   df[\"int_rate\"].max(),6)"
   ]
  },
  {
   "cell_type": "code",
   "execution_count": 74,
   "id": "f9f458ec",
   "metadata": {},
   "outputs": [
    {
     "data": {
      "text/plain": [
       "<seaborn.axisgrid.FacetGrid at 0x1f63f786230>"
      ]
     },
     "execution_count": 74,
     "metadata": {},
     "output_type": "execute_result"
    },
    {
     "data": {
      "image/png": "[encoded data removed]",
      "text/plain": [
       "<Figure size 648x216 with 3 Axes>"
      ]
     },
     "metadata": {
      "needs_background": "light"
     },
     "output_type": "display_data"
    }
   ],
   "source": [
    "graph = sns.FacetGrid(df, col=\"loan_status\", hue=\"loan_status\", palette=\"Set2\")\n",
    "graph.map(plt.hist, 'int_rate', bins=bins, ec=\"k\")"
   ]
  },
  {
   "cell_type": "code",
   "execution_count": 75,
   "id": "6879c7bb",
   "metadata": {},
   "outputs": [],
   "source": [
    "# most borrower who are unable to pay loan haev intrest rate of approx 15%\n",
    "# and we noticed that lower intrest rate allows borrower to fully pay there loan"
   ]
  },
  {
   "cell_type": "code",
   "execution_count": null,
   "id": "9cc3519b",
   "metadata": {},
   "outputs": [],
   "source": []
  },
  {
   "cell_type": "code",
   "execution_count": 76,
   "id": "bb54f3a9",
   "metadata": {},
   "outputs": [],
   "source": [
    "# emp_length"
   ]
  },
  {
   "cell_type": "code",
   "execution_count": 77,
   "id": "7ac17a5f",
   "metadata": {
    "scrolled": true
   },
   "outputs": [
    {
     "data": {
      "text/plain": [
       "<AxesSubplot:xlabel='emp_length', ylabel='count'>"
      ]
     },
     "execution_count": 77,
     "metadata": {},
     "output_type": "execute_result"
    },
    {
     "data": {
      "image/png": "[encoded data removed]",
      "text/plain": [
       "<Figure size 432x288 with 1 Axes>"
      ]
     },
     "metadata": {
      "needs_background": "light"
     },
     "output_type": "display_data"
    }
   ],
   "source": [
    "sns.countplot(x=\"emp_length\", hue='loan_status', data=df)"
   ]
  },
  {
   "cell_type": "code",
   "execution_count": 78,
   "id": "a891860d",
   "metadata": {},
   "outputs": [],
   "source": [
    "# top insight is emp with 10+ exp are more reliable and pay there loan in full\n",
    "# our hyphothesis seems valid less emp lenght is more risky. While 10+ haev same amount of charged off status - might indicate\n",
    "# more variables are in play here to affect the thesis"
   ]
  },
  {
   "cell_type": "code",
   "execution_count": null,
   "id": "dd971de8",
   "metadata": {},
   "outputs": [],
   "source": []
  },
  {
   "cell_type": "code",
   "execution_count": 79,
   "id": "168a7f22",
   "metadata": {},
   "outputs": [],
   "source": [
    "# annual_inc "
   ]
  },
  {
   "cell_type": "code",
   "execution_count": 80,
   "id": "2b2c6aa8",
   "metadata": {},
   "outputs": [],
   "source": [
    "df.annual_inc=df.annual_inc.astype(\"int\").apply(lambda x: round(x))"
   ]
  },
  {
   "cell_type": "code",
   "execution_count": 81,
   "id": "422801f1",
   "metadata": {},
   "outputs": [
    {
     "data": {
      "text/plain": [
       "array([  4000,  28000,  52000,  76000, 100000])"
      ]
     },
     "execution_count": 81,
     "metadata": {},
     "output_type": "execute_result"
    }
   ],
   "source": [
    "bins = np.round(np.linspace(df.annual_inc.min(), 100000,5)).astype(int)\n",
    "bins"
   ]
  },
  {
   "cell_type": "code",
   "execution_count": 82,
   "id": "914ed888",
   "metadata": {},
   "outputs": [
    {
     "data": {
      "text/plain": [
       "<seaborn.axisgrid.FacetGrid at 0x1f640ebff10>"
      ]
     },
     "execution_count": 82,
     "metadata": {},
     "output_type": "execute_result"
    },
    {
     "data": {
      "image/png": "[encoded data removed]",
      "text/plain": [
       "<Figure size 648x216 with 3 Axes>"
      ]
     },
     "metadata": {
      "needs_background": "light"
     },
     "output_type": "display_data"
    }
   ],
   "source": [
    "graph = sns.FacetGrid(df, col=\"loan_status\", hue=\"loan_status\", palette=\"Set3\")\n",
    "graph.map(plt.hist, 'annual_inc', bins=bins, ec=\"k\")"
   ]
  },
  {
   "cell_type": "code",
   "execution_count": 83,
   "id": "7b6fb272",
   "metadata": {},
   "outputs": [],
   "source": [
    "# for this all three graphs seems in normal distribution hence doesnt contribute much to our hyphothesis"
   ]
  },
  {
   "cell_type": "code",
   "execution_count": null,
   "id": "f559963a",
   "metadata": {},
   "outputs": [],
   "source": []
  },
  {
   "cell_type": "code",
   "execution_count": 84,
   "id": "4973e67f",
   "metadata": {},
   "outputs": [],
   "source": [
    "# verification_status"
   ]
  },
  {
   "cell_type": "code",
   "execution_count": 85,
   "id": "7aca8bd8",
   "metadata": {},
   "outputs": [
    {
     "data": {
      "text/plain": [
       "<AxesSubplot:xlabel='verification_status', ylabel='count'>"
      ]
     },
     "execution_count": 85,
     "metadata": {},
     "output_type": "execute_result"
    },
    {
     "data": {
      "image/png": "[encoded data removed]",
      "text/plain": [
       "<Figure size 432x288 with 1 Axes>"
      ]
     },
     "metadata": {
      "needs_background": "light"
     },
     "output_type": "display_data"
    }
   ],
   "source": [
    "sns.countplot(x=\"verification_status\", hue='loan_status', data=df)"
   ]
  },
  {
   "cell_type": "code",
   "execution_count": 86,
   "id": "02f9fe94",
   "metadata": {},
   "outputs": [],
   "source": [
    "# from the following visualization we can say emp verification status wont impact the load fully paid status, hyphothesis is wrong here "
   ]
  },
  {
   "cell_type": "code",
   "execution_count": null,
   "id": "e50c2d13",
   "metadata": {},
   "outputs": [],
   "source": []
  },
  {
   "cell_type": "code",
   "execution_count": 87,
   "id": "8e814b13",
   "metadata": {},
   "outputs": [],
   "source": [
    "# total_acc"
   ]
  },
  {
   "cell_type": "code",
   "execution_count": 88,
   "id": "eec44cd7",
   "metadata": {},
   "outputs": [
    {
     "data": {
      "text/plain": [
       "array([ 2, 12, 22, 31, 41, 51, 61, 70, 80, 90])"
      ]
     },
     "execution_count": 88,
     "metadata": {},
     "output_type": "execute_result"
    }
   ],
   "source": [
    "bins = np.round(np.linspace(df.total_acc.min(), df.total_acc.max(),10)).astype(int)\n",
    "bins"
   ]
  },
  {
   "cell_type": "code",
   "execution_count": 89,
   "id": "faf148ac",
   "metadata": {},
   "outputs": [
    {
     "data": {
      "text/plain": [
       "<seaborn.axisgrid.FacetGrid at 0x1f6400b42e0>"
      ]
     },
     "execution_count": 89,
     "metadata": {},
     "output_type": "execute_result"
    },
    {
     "data": {
      "image/png": "[encoded data removed]",
      "text/plain": [
       "<Figure size 648x216 with 3 Axes>"
      ]
     },
     "metadata": {
      "needs_background": "light"
     },
     "output_type": "display_data"
    }
   ],
   "source": [
    "graph = sns.FacetGrid(df, col=\"loan_status\", hue=\"loan_status\", palette=\"Set3\")\n",
    "graph.map(plt.hist, 'total_acc', bins=bins, ec=\"k\")"
   ]
  },
  {
   "cell_type": "code",
   "execution_count": 90,
   "id": "c232df77",
   "metadata": {},
   "outputs": [],
   "source": [
    "# we may notice that emp with total_acc approx 10 to 20 have high repayment status."
   ]
  },
  {
   "cell_type": "code",
   "execution_count": null,
   "id": "4f769e28",
   "metadata": {},
   "outputs": [],
   "source": []
  },
  {
   "cell_type": "markdown",
   "id": "71a2d341",
   "metadata": {},
   "source": [
    "# correlation"
   ]
  },
  {
   "cell_type": "code",
   "execution_count": 91,
   "id": "4938cc00",
   "metadata": {},
   "outputs": [],
   "source": [
    "# lets do the correlation only on the important columns which we got from univariant and bivariant"
   ]
  },
  {
   "cell_type": "code",
   "execution_count": 92,
   "id": "0d31987a",
   "metadata": {},
   "outputs": [
    {
     "data": {
      "text/plain": [
       "Index(['member_id', 'loan_amnt', 'funded_amnt', 'term', 'int_rate',\n",
       "       'installment', 'grade', 'sub_grade', 'emp_title', 'emp_length',\n",
       "       'home_ownership', 'annual_inc', 'verification_status', 'loan_status',\n",
       "       'purpose', 'title', 'zip_code', 'addr_state', 'dti', 'delinq_2yrs',\n",
       "       'inq_last_6mths', 'open_acc', 'pub_rec', 'revol_util', 'total_acc',\n",
       "       'recoveries', 'collection_recovery_fee', 'last_pymnt_d',\n",
       "       'last_pymnt_amnt'],\n",
       "      dtype='object')"
      ]
     },
     "execution_count": 92,
     "metadata": {},
     "output_type": "execute_result"
    }
   ],
   "source": [
    "df.columns"
   ]
  },
  {
   "cell_type": "code",
   "execution_count": 93,
   "id": "b4123117",
   "metadata": {},
   "outputs": [],
   "source": [
    "# drop which are not neededd\n",
    "df1= df.drop(['member_id',  'funded_amnt', \n",
    "       'installment', 'grade', 'sub_grade', 'emp_title', \n",
    "       'home_ownership',\n",
    "       'purpose', 'title', 'zip_code', 'addr_state', 'dti', 'delinq_2yrs',\n",
    "       'inq_last_6mths', 'open_acc', 'pub_rec', 'revol_util',\n",
    "       'recoveries', 'collection_recovery_fee', 'last_pymnt_d',\n",
    "       'last_pymnt_amnt'],axis=1)"
   ]
  },
  {
   "cell_type": "code",
   "execution_count": 94,
   "id": "577cde1e",
   "metadata": {},
   "outputs": [
    {
     "data": {
      "text/plain": [
       "Index(['loan_amnt', 'term', 'int_rate', 'emp_length', 'annual_inc',\n",
       "       'verification_status', 'loan_status', 'total_acc'],\n",
       "      dtype='object')"
      ]
     },
     "execution_count": 94,
     "metadata": {},
     "output_type": "execute_result"
    }
   ],
   "source": [
    "df1.columns"
   ]
  },
  {
   "cell_type": "code",
   "execution_count": 95,
   "id": "ff6f5f8c",
   "metadata": {},
   "outputs": [],
   "source": [
    "correlation_mat = df1.corr()"
   ]
  },
  {
   "cell_type": "code",
   "execution_count": 96,
   "id": "68c48b13",
   "metadata": {},
   "outputs": [
    {
     "data": {
      "text/html": [
       "<div>\n",
       "<style scoped>\n",
       "    .dataframe tbody tr th:only-of-type {\n",
       "        vertical-align: middle;\n",
       "    }\n",
       "\n",
       "    .dataframe tbody tr th {\n",
       "        vertical-align: top;\n",
       "    }\n",
       "\n",
       "    .dataframe thead th {\n",
       "        text-align: right;\n",
       "    }\n",
       "</style>\n",
       "<table border=\"1\" class=\"dataframe\">\n",
       "  <thead>\n",
       "    <tr style=\"text-align: right;\">\n",
       "      <th></th>\n",
       "      <th>loan_amnt</th>\n",
       "      <th>int_rate</th>\n",
       "      <th>annual_inc</th>\n",
       "      <th>total_acc</th>\n",
       "    </tr>\n",
       "  </thead>\n",
       "  <tbody>\n",
       "    <tr>\n",
       "      <th>loan_amnt</th>\n",
       "      <td>1.000000</td>\n",
       "      <td>0.308778</td>\n",
       "      <td>0.268389</td>\n",
       "      <td>0.254890</td>\n",
       "    </tr>\n",
       "    <tr>\n",
       "      <th>int_rate</th>\n",
       "      <td>0.308778</td>\n",
       "      <td>1.000000</td>\n",
       "      <td>0.051023</td>\n",
       "      <td>-0.041159</td>\n",
       "    </tr>\n",
       "    <tr>\n",
       "      <th>annual_inc</th>\n",
       "      <td>0.268389</td>\n",
       "      <td>0.051023</td>\n",
       "      <td>1.000000</td>\n",
       "      <td>0.234477</td>\n",
       "    </tr>\n",
       "    <tr>\n",
       "      <th>total_acc</th>\n",
       "      <td>0.254890</td>\n",
       "      <td>-0.041159</td>\n",
       "      <td>0.234477</td>\n",
       "      <td>1.000000</td>\n",
       "    </tr>\n",
       "  </tbody>\n",
       "</table>\n",
       "</div>"
      ],
      "text/plain": [
       "            loan_amnt  int_rate  annual_inc  total_acc\n",
       "loan_amnt    1.000000  0.308778    0.268389   0.254890\n",
       "int_rate     0.308778  1.000000    0.051023  -0.041159\n",
       "annual_inc   0.268389  0.051023    1.000000   0.234477\n",
       "total_acc    0.254890 -0.041159    0.234477   1.000000"
      ]
     },
     "execution_count": 96,
     "metadata": {},
     "output_type": "execute_result"
    }
   ],
   "source": [
    "correlation_mat"
   ]
  },
  {
   "cell_type": "code",
   "execution_count": 97,
   "id": "a1dd0d7f",
   "metadata": {},
   "outputs": [
    {
     "data": {
      "text/plain": [
       "<AxesSubplot:>"
      ]
     },
     "execution_count": 97,
     "metadata": {},
     "output_type": "execute_result"
    },
    {
     "data": {
      "image/png": "[encoded data removed]",
      "text/plain": [
       "<Figure size 432x288 with 2 Axes>"
      ]
     },
     "metadata": {
      "needs_background": "light"
     },
     "output_type": "display_data"
    }
   ],
   "source": [
    "sns.heatmap(correlation_mat,annot=True,linewidths=.5,cmap=\"YlGnBu\")"
   ]
  },
  {
   "cell_type": "code",
   "execution_count": 98,
   "id": "82456272",
   "metadata": {},
   "outputs": [],
   "source": [
    "# from above heat map we can say int_rate is correlated to loan_amnt"
   ]
  },
  {
   "cell_type": "code",
   "execution_count": null,
   "id": "475a10f7",
   "metadata": {},
   "outputs": [],
   "source": []
  }
 ],
 "metadata": {
  "kernelspec": {
   "display_name": "Python 3 (ipykernel)",
   "language": "python",
   "name": "python3"
  },
  "language_info": {
   "codemirror_mode": {
    "name": "ipython",
    "version": 3
   },
   "file_extension": ".py",
   "mimetype": "text/x-python",
   "name": "python",
   "nbconvert_exporter": "python",
   "pygments_lexer": "ipython3",
   "version": "3.10.0"
  }
 },
 "nbformat": 4,
 "nbformat_minor": 5
}
