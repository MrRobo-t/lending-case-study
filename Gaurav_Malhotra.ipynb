{
 "cells": [
  {
   "cell_type": "markdown",
   "id": "3f6e3c85",
   "metadata": {},
   "source": [
    "# Imports"
   ]
  },
  {
   "cell_type": "code",
   "execution_count": 2,
   "id": "d2ebfdec",
   "metadata": {},
   "outputs": [],
   "source": [
    "#import the necessary libraries for inital data analysis\n",
    "import numpy as np\n",
    "import pandas as pd\n",
    "import matplotlib.pyplot as plt\n",
    "%matplotlib inline"
   ]
  },
  {
   "cell_type": "markdown",
   "id": "48c77ebc",
   "metadata": {},
   "source": [
    "# Data Read"
   ]
  },
  {
   "cell_type": "code",
   "execution_count": 3,
   "id": "7ce11168",
   "metadata": {},
   "outputs": [],
   "source": [
    "#reading the data file in a dataframe, adding low_memory=False to remove warning while reading the data\n",
    "df = pd.read_csv(\"loan.csv\",low_memory=False)"
   ]
  },
  {
   "cell_type": "markdown",
   "id": "9328e0d0",
   "metadata": {},
   "source": [
    "# Data understanding"
   ]
  },
  {
   "cell_type": "code",
   "execution_count": 4,
   "id": "beb34806",
   "metadata": {},
   "outputs": [],
   "source": [
    "# Just by eyeballing the data we can notice some huge data quality issues like\n",
    "# Many columns invalid values like NA\n",
    "# some columns contains redundant values like 0,1,INDIVIDUAL,n or more\n",
    "# some columns have many missing values like columns \"next_pymnt_d\"\n",
    "# some columns have Empty values also "
   ]
  },
  {
   "cell_type": "code",
   "execution_count": 5,
   "id": "de27c432",
   "metadata": {},
   "outputs": [
    {
     "data": {
      "text/plain": [
       "39717"
      ]
     },
     "execution_count": 5,
     "metadata": {},
     "output_type": "execute_result"
    }
   ],
   "source": [
    "# Duplication Check\n",
    "df1 = df.drop([\"id\",\"member_id\"],axis=1)\n",
    "len(df1.drop_duplicates())\n",
    "# we found out that there are no duplicate rows in the updated dataframe after removing the unqiue id's from the data"
   ]
  },
  {
   "cell_type": "markdown",
   "id": "47284086",
   "metadata": {},
   "source": [
    "# Data Cleaning"
   ]
  },
  {
   "cell_type": "code",
   "execution_count": 6,
   "id": "f18f3836",
   "metadata": {},
   "outputs": [
    {
     "data": {
      "text/plain": [
       "(39717, 111)"
      ]
     },
     "execution_count": 6,
     "metadata": {},
     "output_type": "execute_result"
    }
   ],
   "source": [
    "#check shape of your dataframe i.e. how many rows and columns we have in total\n",
    "df.shape"
   ]
  },
  {
   "cell_type": "code",
   "execution_count": 7,
   "id": "46346fca",
   "metadata": {},
   "outputs": [],
   "source": [
    "# Filter out unncessary columns that do not pertain with our use case"
   ]
  },
  {
   "cell_type": "code",
   "execution_count": 8,
   "id": "cf6d9c51",
   "metadata": {},
   "outputs": [],
   "source": [
    "df = df.drop(['collections_12_mths_ex_med','mths_since_last_major_derog','policy_code','application_type',\n",
    "               'annual_inc_joint','dti_joint','verification_status_joint','acc_now_delinq','tot_coll_amt',\n",
    "               'tot_cur_bal','open_acc_6m','open_il_6m','open_il_12m','open_il_24m','mths_since_rcnt_il',\n",
    "               'total_bal_il','il_util','open_rv_12m','open_rv_24m','max_bal_bc','all_util','total_rev_hi_lim',\n",
    "               'inq_fi','total_cu_tl','inq_last_12m','acc_open_past_24mths','avg_cur_bal','bc_open_to_buy',\n",
    "               'bc_util','chargeoff_within_12_mths','delinq_amnt','mo_sin_old_il_acct','mo_sin_old_rev_tl_op',\n",
    "               'mo_sin_rcnt_rev_tl_op','mo_sin_rcnt_tl','mort_acc','mths_since_recent_bc','mths_since_recent_bc_dlq',\n",
    "               'mths_since_recent_inq','mths_since_recent_revol_delinq','num_accts_ever_120_pd','num_actv_bc_tl',\n",
    "               'num_actv_rev_tl','num_bc_sats','num_bc_tl','num_il_tl','num_op_rev_tl','num_rev_accts',\n",
    "               'num_rev_tl_bal_gt_0','num_sats','num_tl_120dpd_2m','num_tl_30dpd','num_tl_90g_dpd_24m',\n",
    "               'num_tl_op_past_12m','pct_tl_nvr_dlq','percent_bc_gt_75','pub_rec_bankruptcies','tax_liens',\n",
    "               'tot_hi_cred_lim','total_bal_ex_mort','total_bc_limit','total_il_high_credit_limit','next_pymnt_d',\n",
    "              'last_credit_pull_d','initial_list_status','mths_since_last_delinq','mths_since_last_record','desc',\n",
    "              'pymnt_plan','url'],axis=1)"
   ]
  },
  {
   "cell_type": "code",
   "execution_count": 9,
   "id": "81e47316",
   "metadata": {},
   "outputs": [],
   "source": [
    "# some highlight from above cell, we are removing desc column bcoz of 15k approx missing data"
   ]
  },
  {
   "cell_type": "code",
   "execution_count": 10,
   "id": "9ef01b69",
   "metadata": {},
   "outputs": [
    {
     "data": {
      "text/plain": [
       "(39717, 41)"
      ]
     },
     "execution_count": 10,
     "metadata": {},
     "output_type": "execute_result"
    }
   ],
   "source": [
    "#check shape of your dataframe i.e. how many rows and columns we have in total\n",
    "df.shape"
   ]
  },
  {
   "cell_type": "code",
   "execution_count": 11,
   "id": "0efb40c5",
   "metadata": {},
   "outputs": [],
   "source": [
    "# Even after removing many unwanted columns we can notice we still have 41 column, so lets remove some more unrelated or \n",
    "# duplicate columns form the dataframe columns "
   ]
  },
  {
   "cell_type": "code",
   "execution_count": 12,
   "id": "b087cffc",
   "metadata": {},
   "outputs": [],
   "source": [
    "df = df.drop(['id','funded_amnt_inv','issue_d','earliest_cr_line','revol_bal','out_prncp','out_prncp_inv','total_pymnt','total_pymnt_inv','total_rec_prncp','total_rec_int','total_rec_late_fee'],axis=1)"
   ]
  },
  {
   "cell_type": "code",
   "execution_count": 13,
   "id": "7dab8c74",
   "metadata": {},
   "outputs": [],
   "source": [
    "# we can remove \"id\" as we have another unique column(member_id), both columns signify same things even though values are different\n",
    "# we can remove 'funded_amnt_inv' as we are only interested in the loan approved by the LC\n",
    "# we can remove \"issue_d\" , \"out_prncp\", \"out_prncp_inv\" and \"earliest_cr_line\" since we can track the loan status from \"loan_status\" column\n",
    "# we can remove \"revol_bal\". Instead we can use \"revol_util\" which gives value in percentage of the credit used\n",
    "# we can remove \"total_pymnt\" and \"total_pymnt_inv\" as we can track loan status from 'loan_status' column\n",
    "# we can remove 'total_rec_prncp','total_rec_int' and 'total_rec_late_fee' as we can track defaulters from 'loan_status' column"
   ]
  },
  {
   "cell_type": "code",
   "execution_count": 14,
   "id": "a3ae13c6",
   "metadata": {},
   "outputs": [
    {
     "data": {
      "text/plain": [
       "(39717, 29)"
      ]
     },
     "execution_count": 14,
     "metadata": {},
     "output_type": "execute_result"
    }
   ],
   "source": [
    "#check shape of your dataframe i.e. how many rows and columns we have in total\n",
    "df.shape"
   ]
  },
  {
   "cell_type": "code",
   "execution_count": 15,
   "id": "2bf7a3a6",
   "metadata": {
    "scrolled": true
   },
   "outputs": [
    {
     "data": {
      "text/html": [
       "<div>\n",
       "<style scoped>\n",
       "    .dataframe tbody tr th:only-of-type {\n",
       "        vertical-align: middle;\n",
       "    }\n",
       "\n",
       "    .dataframe tbody tr th {\n",
       "        vertical-align: top;\n",
       "    }\n",
       "\n",
       "    .dataframe thead th {\n",
       "        text-align: right;\n",
       "    }\n",
       "</style>\n",
       "<table border=\"1\" class=\"dataframe\">\n",
       "  <thead>\n",
       "    <tr style=\"text-align: right;\">\n",
       "      <th></th>\n",
       "      <th>member_id</th>\n",
       "      <th>loan_amnt</th>\n",
       "      <th>funded_amnt</th>\n",
       "      <th>term</th>\n",
       "      <th>int_rate</th>\n",
       "      <th>installment</th>\n",
       "      <th>grade</th>\n",
       "      <th>sub_grade</th>\n",
       "      <th>emp_title</th>\n",
       "      <th>emp_length</th>\n",
       "      <th>...</th>\n",
       "      <th>delinq_2yrs</th>\n",
       "      <th>inq_last_6mths</th>\n",
       "      <th>open_acc</th>\n",
       "      <th>pub_rec</th>\n",
       "      <th>revol_util</th>\n",
       "      <th>total_acc</th>\n",
       "      <th>recoveries</th>\n",
       "      <th>collection_recovery_fee</th>\n",
       "      <th>last_pymnt_d</th>\n",
       "      <th>last_pymnt_amnt</th>\n",
       "    </tr>\n",
       "  </thead>\n",
       "  <tbody>\n",
       "    <tr>\n",
       "      <th>0</th>\n",
       "      <td>1296599</td>\n",
       "      <td>5000</td>\n",
       "      <td>5000</td>\n",
       "      <td>36 months</td>\n",
       "      <td>10.65%</td>\n",
       "      <td>162.87</td>\n",
       "      <td>B</td>\n",
       "      <td>B2</td>\n",
       "      <td>NaN</td>\n",
       "      <td>10+ years</td>\n",
       "      <td>...</td>\n",
       "      <td>0</td>\n",
       "      <td>1</td>\n",
       "      <td>3</td>\n",
       "      <td>0</td>\n",
       "      <td>83.70%</td>\n",
       "      <td>9</td>\n",
       "      <td>0.00</td>\n",
       "      <td>0.00</td>\n",
       "      <td>Jan-15</td>\n",
       "      <td>171.62</td>\n",
       "    </tr>\n",
       "    <tr>\n",
       "      <th>1</th>\n",
       "      <td>1314167</td>\n",
       "      <td>2500</td>\n",
       "      <td>2500</td>\n",
       "      <td>60 months</td>\n",
       "      <td>15.27%</td>\n",
       "      <td>59.83</td>\n",
       "      <td>C</td>\n",
       "      <td>C4</td>\n",
       "      <td>Ryder</td>\n",
       "      <td>&lt; 1 year</td>\n",
       "      <td>...</td>\n",
       "      <td>0</td>\n",
       "      <td>5</td>\n",
       "      <td>3</td>\n",
       "      <td>0</td>\n",
       "      <td>9.40%</td>\n",
       "      <td>4</td>\n",
       "      <td>117.08</td>\n",
       "      <td>1.11</td>\n",
       "      <td>Apr-13</td>\n",
       "      <td>119.66</td>\n",
       "    </tr>\n",
       "    <tr>\n",
       "      <th>2</th>\n",
       "      <td>1313524</td>\n",
       "      <td>2400</td>\n",
       "      <td>2400</td>\n",
       "      <td>36 months</td>\n",
       "      <td>15.96%</td>\n",
       "      <td>84.33</td>\n",
       "      <td>C</td>\n",
       "      <td>C5</td>\n",
       "      <td>NaN</td>\n",
       "      <td>10+ years</td>\n",
       "      <td>...</td>\n",
       "      <td>0</td>\n",
       "      <td>2</td>\n",
       "      <td>2</td>\n",
       "      <td>0</td>\n",
       "      <td>98.50%</td>\n",
       "      <td>10</td>\n",
       "      <td>0.00</td>\n",
       "      <td>0.00</td>\n",
       "      <td>Jun-14</td>\n",
       "      <td>649.91</td>\n",
       "    </tr>\n",
       "    <tr>\n",
       "      <th>3</th>\n",
       "      <td>1277178</td>\n",
       "      <td>10000</td>\n",
       "      <td>10000</td>\n",
       "      <td>36 months</td>\n",
       "      <td>13.49%</td>\n",
       "      <td>339.31</td>\n",
       "      <td>C</td>\n",
       "      <td>C1</td>\n",
       "      <td>AIR RESOURCES BOARD</td>\n",
       "      <td>10+ years</td>\n",
       "      <td>...</td>\n",
       "      <td>0</td>\n",
       "      <td>1</td>\n",
       "      <td>10</td>\n",
       "      <td>0</td>\n",
       "      <td>21%</td>\n",
       "      <td>37</td>\n",
       "      <td>0.00</td>\n",
       "      <td>0.00</td>\n",
       "      <td>Jan-15</td>\n",
       "      <td>357.48</td>\n",
       "    </tr>\n",
       "    <tr>\n",
       "      <th>4</th>\n",
       "      <td>1311748</td>\n",
       "      <td>3000</td>\n",
       "      <td>3000</td>\n",
       "      <td>60 months</td>\n",
       "      <td>12.69%</td>\n",
       "      <td>67.79</td>\n",
       "      <td>B</td>\n",
       "      <td>B5</td>\n",
       "      <td>University Medical Group</td>\n",
       "      <td>1 year</td>\n",
       "      <td>...</td>\n",
       "      <td>0</td>\n",
       "      <td>0</td>\n",
       "      <td>15</td>\n",
       "      <td>0</td>\n",
       "      <td>53.90%</td>\n",
       "      <td>38</td>\n",
       "      <td>0.00</td>\n",
       "      <td>0.00</td>\n",
       "      <td>May-16</td>\n",
       "      <td>67.79</td>\n",
       "    </tr>\n",
       "  </tbody>\n",
       "</table>\n",
       "<p>5 rows × 29 columns</p>\n",
       "</div>"
      ],
      "text/plain": [
       "   member_id  loan_amnt  funded_amnt        term int_rate  installment grade  \\\n",
       "0    1296599       5000         5000   36 months   10.65%       162.87     B   \n",
       "1    1314167       2500         2500   60 months   15.27%        59.83     C   \n",
       "2    1313524       2400         2400   36 months   15.96%        84.33     C   \n",
       "3    1277178      10000        10000   36 months   13.49%       339.31     C   \n",
       "4    1311748       3000         3000   60 months   12.69%        67.79     B   \n",
       "\n",
       "  sub_grade                 emp_title emp_length  ... delinq_2yrs  \\\n",
       "0        B2                       NaN  10+ years  ...           0   \n",
       "1        C4                     Ryder   < 1 year  ...           0   \n",
       "2        C5                       NaN  10+ years  ...           0   \n",
       "3        C1       AIR RESOURCES BOARD  10+ years  ...           0   \n",
       "4        B5  University Medical Group     1 year  ...           0   \n",
       "\n",
       "   inq_last_6mths open_acc pub_rec revol_util total_acc recoveries  \\\n",
       "0               1        3       0     83.70%         9       0.00   \n",
       "1               5        3       0      9.40%         4     117.08   \n",
       "2               2        2       0     98.50%        10       0.00   \n",
       "3               1       10       0        21%        37       0.00   \n",
       "4               0       15       0     53.90%        38       0.00   \n",
       "\n",
       "  collection_recovery_fee  last_pymnt_d  last_pymnt_amnt  \n",
       "0                    0.00        Jan-15           171.62  \n",
       "1                    1.11        Apr-13           119.66  \n",
       "2                    0.00        Jun-14           649.91  \n",
       "3                    0.00        Jan-15           357.48  \n",
       "4                    0.00        May-16            67.79  \n",
       "\n",
       "[5 rows x 29 columns]"
      ]
     },
     "execution_count": 15,
     "metadata": {},
     "output_type": "execute_result"
    }
   ],
   "source": [
    "#get an overview of the dataframe\n",
    "df.head()"
   ]
  },
  {
   "cell_type": "markdown",
   "id": "f12b78fa",
   "metadata": {},
   "source": [
    "## Handling Mising Values"
   ]
  },
  {
   "cell_type": "code",
   "execution_count": 16,
   "id": "591358a7",
   "metadata": {},
   "outputs": [
    {
     "data": {
      "text/plain": [
       "Index(['emp_title', 'emp_length', 'title', 'revol_util', 'last_pymnt_d'], dtype='object')"
      ]
     },
     "execution_count": 16,
     "metadata": {},
     "output_type": "execute_result"
    }
   ],
   "source": [
    "# The commands helps us to identify all the columns which contain empty values\n",
    "df.columns[df.isnull().any()]"
   ]
  },
  {
   "cell_type": "code",
   "execution_count": 17,
   "id": "824fe3e3",
   "metadata": {},
   "outputs": [
    {
     "data": {
      "text/plain": [
       "2459"
      ]
     },
     "execution_count": 17,
     "metadata": {},
     "output_type": "execute_result"
    }
   ],
   "source": [
    "# Counting total number of missing values\n",
    "len(df[df['emp_title'].isnull()])"
   ]
  },
  {
   "cell_type": "code",
   "execution_count": 18,
   "id": "2ee56daa",
   "metadata": {},
   "outputs": [],
   "source": [
    "# As we can see in the purpose column that these are small businesses or students who have applied for loan, therefore\n",
    "# we can replace the missing values as self employed/student\n",
    "\n",
    "df['emp_title'].fillna(\"Self-Employed/Student\",inplace=True)"
   ]
  },
  {
   "cell_type": "code",
   "execution_count": 19,
   "id": "fb800fc4",
   "metadata": {},
   "outputs": [],
   "source": [
    "# Finding total number of missing values in employee_length column"
   ]
  },
  {
   "cell_type": "code",
   "execution_count": 20,
   "id": "0a2499f5",
   "metadata": {
    "scrolled": true
   },
   "outputs": [
    {
     "data": {
      "text/plain": [
       "1075"
      ]
     },
     "execution_count": 20,
     "metadata": {},
     "output_type": "execute_result"
    }
   ],
   "source": [
    "len(df[df['emp_length'].isnull()])"
   ]
  },
  {
   "cell_type": "code",
   "execution_count": 21,
   "id": "9aa527a5",
   "metadata": {},
   "outputs": [],
   "source": [
    "# Checking data distribution"
   ]
  },
  {
   "cell_type": "code",
   "execution_count": 22,
   "id": "4eea8fa8",
   "metadata": {},
   "outputs": [
    {
     "data": {
      "text/plain": [
       "10+ years    8879\n",
       "< 1 year     4583\n",
       "2 years      4388\n",
       "3 years      4095\n",
       "4 years      3436\n",
       "5 years      3282\n",
       "1 year       3240\n",
       "6 years      2229\n",
       "7 years      1773\n",
       "8 years      1479\n",
       "9 years      1258\n",
       "Name: emp_length, dtype: int64"
      ]
     },
     "execution_count": 22,
     "metadata": {},
     "output_type": "execute_result"
    }
   ],
   "source": [
    "df['emp_length'].value_counts()"
   ]
  },
  {
   "cell_type": "code",
   "execution_count": 23,
   "id": "7bdfeaee",
   "metadata": {},
   "outputs": [],
   "source": [
    "# To fill these missing values we cannot find an optimal solution as taking the average or median will not align with the\n",
    "# employee as he/she could be a startup or student. We need some tangible proof as <1 years would also not justify.\n",
    "\n",
    "df.dropna(subset=['emp_length'],inplace=True)"
   ]
  },
  {
   "cell_type": "code",
   "execution_count": 24,
   "id": "69847384",
   "metadata": {},
   "outputs": [
    {
     "data": {
      "text/plain": [
       "(38642, 29)"
      ]
     },
     "execution_count": 24,
     "metadata": {},
     "output_type": "execute_result"
    }
   ],
   "source": [
    "df.shape"
   ]
  },
  {
   "cell_type": "code",
   "execution_count": 25,
   "id": "6bc51cb5",
   "metadata": {},
   "outputs": [],
   "source": [
    "# Finding total number of missing values in title column"
   ]
  },
  {
   "cell_type": "code",
   "execution_count": 26,
   "id": "7b7e92a7",
   "metadata": {},
   "outputs": [
    {
     "data": {
      "text/plain": [
       "10"
      ]
     },
     "execution_count": 26,
     "metadata": {},
     "output_type": "execute_result"
    }
   ],
   "source": [
    "len(df[df['title'].isnull()])"
   ]
  },
  {
   "cell_type": "code",
   "execution_count": 27,
   "id": "16ab1b88",
   "metadata": {},
   "outputs": [],
   "source": [
    "# We can simply remove these rows are they won't affect our dataset by a huge margin"
   ]
  },
  {
   "cell_type": "code",
   "execution_count": 28,
   "id": "ba12666b",
   "metadata": {},
   "outputs": [],
   "source": [
    "df.dropna(subset=['title'],inplace=True)"
   ]
  },
  {
   "cell_type": "code",
   "execution_count": 29,
   "id": "811cd212",
   "metadata": {},
   "outputs": [
    {
     "data": {
      "text/plain": [
       "(38632, 29)"
      ]
     },
     "execution_count": 29,
     "metadata": {},
     "output_type": "execute_result"
    }
   ],
   "source": [
    "df.shape"
   ]
  },
  {
   "cell_type": "code",
   "execution_count": 30,
   "id": "9370365d",
   "metadata": {},
   "outputs": [
    {
     "data": {
      "text/plain": [
       "47"
      ]
     },
     "execution_count": 30,
     "metadata": {},
     "output_type": "execute_result"
    }
   ],
   "source": [
    "# Finding total number of missing values in revol_util column\n",
    "len(df[df['revol_util'].isnull()])\n"
   ]
  },
  {
   "cell_type": "code",
   "execution_count": 31,
   "id": "1fdd69ab",
   "metadata": {},
   "outputs": [],
   "source": [
    "# We can simply remove these rows are they won't affect our dataset by a huge margin"
   ]
  },
  {
   "cell_type": "code",
   "execution_count": 32,
   "id": "fc34cb60",
   "metadata": {},
   "outputs": [],
   "source": [
    "df.dropna(subset=['revol_util'],inplace=True)"
   ]
  },
  {
   "cell_type": "code",
   "execution_count": 33,
   "id": "5455a821",
   "metadata": {},
   "outputs": [
    {
     "data": {
      "text/plain": [
       "(38585, 29)"
      ]
     },
     "execution_count": 33,
     "metadata": {},
     "output_type": "execute_result"
    }
   ],
   "source": [
    "df.shape"
   ]
  },
  {
   "cell_type": "code",
   "execution_count": 34,
   "id": "0d4720b3",
   "metadata": {},
   "outputs": [
    {
     "data": {
      "text/plain": [
       "62"
      ]
     },
     "execution_count": 34,
     "metadata": {},
     "output_type": "execute_result"
    }
   ],
   "source": [
    "# Finding total number of missing values in last_pymnt_d column\n",
    "len(df[df['last_pymnt_d'].isnull()])"
   ]
  },
  {
   "cell_type": "code",
   "execution_count": 35,
   "id": "646420d3",
   "metadata": {},
   "outputs": [],
   "source": [
    "# We can simply remove these rows are they won't affect our dataset by a huge margin"
   ]
  },
  {
   "cell_type": "code",
   "execution_count": 36,
   "id": "8c719e12",
   "metadata": {},
   "outputs": [],
   "source": [
    "df.dropna(subset=['revol_util'],inplace=True)"
   ]
  },
  {
   "cell_type": "code",
   "execution_count": 37,
   "id": "432ff679",
   "metadata": {},
   "outputs": [
    {
     "data": {
      "text/plain": [
       "(38585, 29)"
      ]
     },
     "execution_count": 37,
     "metadata": {},
     "output_type": "execute_result"
    }
   ],
   "source": [
    "df.shape"
   ]
  },
  {
   "cell_type": "markdown",
   "id": "4b54c26c",
   "metadata": {},
   "source": []
  },
  {
   "cell_type": "markdown",
   "id": "be93c3b5",
   "metadata": {},
   "source": [
    "## Univariate Analysis"
   ]
  },
  {
   "cell_type": "code",
   "execution_count": 38,
   "id": "8f733572",
   "metadata": {},
   "outputs": [
    {
     "data": {
      "text/plain": [
       "38585"
      ]
     },
     "execution_count": 38,
     "metadata": {},
     "output_type": "execute_result"
    }
   ],
   "source": [
    "#member_id\n",
    "df[\"member_id\"].nunique()\n",
    "# member id is same as our previous column \"id\" means we can discard on of these column in our later analysis"
   ]
  },
  {
   "cell_type": "code",
   "execution_count": 39,
   "id": "c6ef8bc9",
   "metadata": {},
   "outputs": [
    {
     "data": {
      "text/plain": [
       "10000    2764\n",
       "12000    2295\n",
       "5000     1976\n",
       "15000    1860\n",
       "6000     1853\n",
       "         ... \n",
       "19475       1\n",
       "21225       1\n",
       "17225       1\n",
       "12425       1\n",
       "22550       1\n",
       "Name: loan_amnt, Length: 879, dtype: int64"
      ]
     },
     "execution_count": 39,
     "metadata": {},
     "output_type": "execute_result"
    }
   ],
   "source": [
    "#loan_amnt\n",
    "df[\"loan_amnt\"].value_counts()\n",
    "#based on this distribution we can say multiple borrowers have applied for the same amount.\n",
    "#And most request amount is 10k"
   ]
  },
  {
   "cell_type": "code",
   "execution_count": 40,
   "id": "d9c2d598",
   "metadata": {
    "scrolled": false
   },
   "outputs": [
    {
     "data": {
      "text/plain": [
       "879"
      ]
     },
     "execution_count": 40,
     "metadata": {},
     "output_type": "execute_result"
    }
   ],
   "source": [
    "df[\"loan_amnt\"].nunique()\n",
    "# Total unique Loan applied for by the borrower are 885"
   ]
  },
  {
   "cell_type": "code",
   "execution_count": 41,
   "id": "77afe234",
   "metadata": {
    "scrolled": true
   },
   "outputs": [
    {
     "data": {
      "text/plain": [
       "<matplotlib.collections.PathCollection at 0x24db51e9760>"
      ]
     },
     "execution_count": 41,
     "metadata": {},
     "output_type": "execute_result"
    },
    {
     "data": {
      "image/png": "[encoded data removed]",
      "text/plain": [
       "<Figure size 432x288 with 1 Axes>"
      ]
     },
     "metadata": {
      "needs_background": "light"
     },
     "output_type": "display_data"
    }
   ],
   "source": [
    "# plot the scatter graph \n",
    "plt.xscale(\"log\")\n",
    "plt.yscale(\"log\")\n",
    "plt.scatter(list(df.loan_amnt.value_counts()),\n",
    "       list(df.loan_amnt.value_counts().index))"
   ]
  },
  {
   "cell_type": "code",
   "execution_count": 63,
   "id": "df6eefaf",
   "metadata": {},
   "outputs": [
    {
     "data": {
      "text/plain": [
       "10.99%    932\n",
       "13.49%    813\n",
       "11.49%    799\n",
       "7.51%     756\n",
       "7.88%     701\n",
       "         ... \n",
       "16.33%      1\n",
       "16.15%      1\n",
       "16.01%      1\n",
       "10.64%      1\n",
       "17.44%      1\n",
       "Name: int_rate, Length: 371, dtype: int64"
      ]
     },
     "execution_count": 63,
     "metadata": {},
     "output_type": "execute_result"
    }
   ],
   "source": [
    "#int_rate\n",
    "df[\"int_rate\"].value_counts()\n",
    "#based on this distribution we can say multiple borrowers have applied for the same amount.\n",
    "#And most request amount is 10.99"
   ]
  },
  {
   "cell_type": "code",
   "execution_count": 43,
   "id": "2eb318f9",
   "metadata": {},
   "outputs": [
    {
     "data": {
      "text/plain": [
       "371"
      ]
     },
     "execution_count": 43,
     "metadata": {},
     "output_type": "execute_result"
    }
   ],
   "source": [
    "df[\"int_rate\"].nunique()\n",
    "# Total unique interest rate applied for loan by LC are 371"
   ]
  },
  {
   "cell_type": "code",
   "execution_count": 65,
   "id": "2b15c799",
   "metadata": {},
   "outputs": [
    {
     "data": {
      "text/plain": [
       "[<matplotlib.lines.Line2D at 0x24dbd605550>]"
      ]
     },
     "execution_count": 65,
     "metadata": {},
     "output_type": "execute_result"
    },
    {
     "data": {
      "image/png": "[encoded data removed]",
      "text/plain": [
       "<Figure size 432x288 with 1 Axes>"
      ]
     },
     "metadata": {
      "needs_background": "light"
     },
     "output_type": "display_data"
    }
   ],
   "source": [
    "# plot the scatter graph \n",
    "\n",
    "plt.plot(list(df[\"int_rate\"].str.replace(\"%\",\"\").astype(float).apply(lambda x: round(x)).value_counts()),\n",
    "       list(df[\"int_rate\"].str.replace(\"%\",\"\").astype(float).apply(lambda x: round(x)).value_counts().index),'--bo')"
   ]
  },
  {
   "cell_type": "code",
   "execution_count": 45,
   "id": "a3688fd9",
   "metadata": {},
   "outputs": [
    {
     "data": {
      "text/plain": [
       "B    11682\n",
       "A     9694\n",
       "C     7913\n",
       "D     5176\n",
       "E     2783\n",
       "F     1024\n",
       "G      313\n",
       "Name: grade, dtype: int64"
      ]
     },
     "execution_count": 45,
     "metadata": {},
     "output_type": "execute_result"
    }
   ],
   "source": [
    "#grade\n",
    "df[\"grade\"].value_counts()\n",
    "#based on this distribution we can say most of the borrowers fall into B grade"
   ]
  },
  {
   "cell_type": "code",
   "execution_count": 66,
   "id": "5c233fef",
   "metadata": {},
   "outputs": [
    {
     "data": {
      "text/plain": [
       "7"
      ]
     },
     "execution_count": 66,
     "metadata": {},
     "output_type": "execute_result"
    }
   ],
   "source": [
    "df[\"grade\"].nunique()\n",
    "# Total unique grades by LC are 7"
   ]
  },
  {
   "cell_type": "code",
   "execution_count": 58,
   "id": "085804e7",
   "metadata": {},
   "outputs": [
    {
     "data": {
      "text/plain": [
       "[<matplotlib.lines.Line2D at 0x24db7b46700>]"
      ]
     },
     "execution_count": 58,
     "metadata": {},
     "output_type": "execute_result"
    },
    {
     "data": {
      "image/png": "[encoded data removed]",
      "text/plain": [
       "<Figure size 432x288 with 1 Axes>"
      ]
     },
     "metadata": {
      "needs_background": "light"
     },
     "output_type": "display_data"
    }
   ],
   "source": [
    "# plot the scatter graph \n",
    "plt.xlabel(\"Grade\")\n",
    "plt.ylabel(\"Number of borrowers\")\n",
    "plt.plot(list(df[\"grade\"].value_counts().index),\n",
    "       list(df[\"grade\"].value_counts()),'--bo')"
   ]
  },
  {
   "cell_type": "code",
   "execution_count": 67,
   "id": "c6dac285",
   "metadata": {},
   "outputs": [
    {
     "data": {
      "text/plain": [
       "Not Verified       16466\n",
       "Verified           12343\n",
       "Source Verified     9776\n",
       "Name: verification_status, dtype: int64"
      ]
     },
     "execution_count": 67,
     "metadata": {},
     "output_type": "execute_result"
    }
   ],
   "source": [
    "# verification_status\n",
    "df[\"verification_status\"].value_counts()\n",
    "# We can infer that about 16000 who applied for loan are not verified and may be defaulters. "
   ]
  },
  {
   "cell_type": "code",
   "execution_count": 73,
   "id": "9f5f7b16",
   "metadata": {},
   "outputs": [
    {
     "data": {
      "text/plain": [
       "<BarContainer object of 3 artists>"
      ]
     },
     "execution_count": 73,
     "metadata": {},
     "output_type": "execute_result"
    },
    {
     "data": {
      "image/png": "[encoded data removed]",
      "text/plain": [
       "<Figure size 432x288 with 1 Axes>"
      ]
     },
     "metadata": {
      "needs_background": "light"
     },
     "output_type": "display_data"
    }
   ],
   "source": [
    "# plot the scatter graph \n",
    "plt.xlabel(\"Status Values\")\n",
    "plt.ylabel(\"Number of borrowers\")\n",
    "plt.bar(list(df[\"verification_status\"].value_counts().index),\n",
    "       list(df[\"verification_status\"].value_counts()),width=0.5) "
   ]
  },
  {
   "cell_type": "code",
   "execution_count": 74,
   "id": "f4833bdd",
   "metadata": {},
   "outputs": [
    {
     "data": {
      "text/plain": [
       "Fully Paid     32104\n",
       "Charged Off     5383\n",
       "Current         1098\n",
       "Name: loan_status, dtype: int64"
      ]
     },
     "execution_count": 74,
     "metadata": {},
     "output_type": "execute_result"
    }
   ],
   "source": [
    "#loan_status\n",
    "df[\"loan_status\"].value_counts()\n",
    "\n",
    "# We can infer that about 32104 who applied for loan have fully paid them whereas 5383 are defaulters"
   ]
  },
  {
   "cell_type": "code",
   "execution_count": null,
   "id": "e2d0a083",
   "metadata": {},
   "outputs": [],
   "source": [
    "# plot the scatter graph \n",
    "plt.xlabel(\"Status Values\")\n",
    "plt.ylabel(\"Number of borrowers\")\n",
    "plt.bar(list(df[\"verification_status\"].value_counts().index),\n",
    "       list(df[\"verification_status\"].value_counts()),width=0.5) "
   ]
  }
 ],
 "metadata": {
  "kernelspec": {
   "display_name": "Python 3 (ipykernel)",
   "language": "python",
   "name": "python3"
  },
  "language_info": {
   "codemirror_mode": {
    "name": "ipython",
    "version": 3
   },
   "file_extension": ".py",
   "mimetype": "text/x-python",
   "name": "python",
   "nbconvert_exporter": "python",
   "pygments_lexer": "ipython3",
   "version": "3.9.7"
  }
 },
 "nbformat": 4,
 "nbformat_minor": 5
}
